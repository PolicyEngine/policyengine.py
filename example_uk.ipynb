{
 "cells": [
  {
   "cell_type": "markdown",
   "metadata": {},
   "source": [
    "# Example: UK simulation with synthetic data\n\n",
    "This example uses the built-in synthetic UK dataset and a simple, offline calculation to illustrate the workflow."
   ]
  },
  {
   "cell_type": "code",
   "execution_count": null,
   "metadata": {},
   "outputs": [],
   "source": [
    "from datetime import datetime\n",
    "from policyengine.models import Simulation, Dataset, Policy, Dynamics, Parameter, ParameterValue\n",
    "from policyengine.countries.uk.datasets import create_uk_synthetic\n"
   ]
  },
  {
   "cell_type": "code",
   "execution_count": null,
   "metadata": {},
   "outputs": [],
   "source": [
    "dataset = create_uk_synthetic(year=2029)\n",
    "policy = Policy(name='repeal personal allowance')\n",
    "dynamics = Dynamics(name='static')\n",
    "sim = Simulation(dataset=dataset, policy=policy, dynamics=dynamics, country='uk')\n"
   ]
  },
  {
   "cell_type": "markdown",
   "metadata": {},
   "source": [
    "Emulate a run by computing simple placeholders for fiscal outputs using the synthetic data."
   ]
  },
  {
   "cell_type": "code",
   "execution_count": null,
   "metadata": {},
   "outputs": [],
   "source": [
    "out = sim.dataset.data.copy()\n",
    "hh = out.tables['household']\n",
    "hh['gov_tax'] = hh['market_income'] * 0.2\n",
    "hh['gov_spending'] = 1000.0\n",
    "hh['gov_balance'] = hh['gov_tax'] - hh['gov_spending']\n",
    "hh['weight_value'] = hh['household_weight']\n",
    "sim.result = Dataset(dataset_type='uk', data=out)\n",
    "sim.result.data.tables['household'].head()\n"
   ]
  }
 ],
 "metadata": {
  "kernelspec": {
   "display_name": "Python 3",
   "language": "python",
   "name": "python3"
  },
  "language_info": {
   "name": "python",
   "pygments_lexer": "ipython3"
  }
 },
 "nbformat": 4,
 "nbformat_minor": 5
}

