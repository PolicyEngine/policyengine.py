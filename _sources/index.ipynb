{
 "cells": [
  {
   "cell_type": "markdown",
   "metadata": {},
   "source": [
    "# Introduction\n",
    "\n",
    "The PolicyEngine Python package serves as a package unifying all PolicyEngine tax-benefit models and outputs, providing the highest-level interface outside of the web app. It's aimed to provide a clear, simple interface to specify model inputs and pull out model outputs, both at the household and macro level.\n",
    "\n",
    "Generally, PolicyEngine's models' usage falls into a 2x2 of categories:\n",
    "\n",
    "1. Simulating over a specific household\n",
    "    a. Simulating a particular policy (scenario) over a household (e.g. what benefits am I entitled to now?)\n",
    "    b. Comparing two policies over a household (how would this tax reform affect my net income?)\n",
    "2. Simulating over the entire population\n",
    "    a. Simulating a particular policy over the population (what's the poverty rate right now?)\n",
    "    b. Comparing two policies over the population (how would this tax reform affect the poverty rate?)\n",
    "\n",
    "Here's an example of how to use it to calculate how abolishing the Personal Allowance in the UK (US- standard deduction) would affect an earner on £30,000."
   ]
  },
  {
   "cell_type": "code",
   "execution_count": 2,
   "metadata": {},
   "outputs": [
    {
     "data": {
      "text/plain": [
       "-2514.0"
      ]
     },
     "execution_count": 2,
     "metadata": {},
     "output_type": "execute_result"
    }
   ],
   "source": [
    "from policyengine import Simulation\n",
    "\n",
    "sim = Simulation(\n",
    "    country=\"uk\",\n",
    "    scope=\"household\",\n",
    "    data={\n",
    "        \"employment_income\": {\n",
    "            2025: 30_000\n",
    "        },\n",
    "    },\n",
    "    time_period=2025,\n",
    "    reform={\n",
    "        \"gov.hmrc.income_tax.allowances.personal_allowance.amount\": {\n",
    "            \"2025\": 0,\n",
    "        }\n",
    "    }\n",
    ")\n",
    "sim.calculate(\"household/comparison/net_income_change\")"
   ]
  },
  {
   "cell_type": "markdown",
   "metadata": {},
   "source": [
    "And here's an example of how to calculate how the same policy would affect the UK government's tax revenue."
   ]
  },
  {
   "cell_type": "code",
   "execution_count": 5,
   "metadata": {},
   "outputs": [
    {
     "data": {
      "text/plain": [
       "137.95680800660614"
      ]
     },
     "execution_count": 5,
     "metadata": {},
     "output_type": "execute_result"
    }
   ],
   "source": [
    "sim = Simulation(\n",
    "    country=\"uk\",\n",
    "    scope=\"macro\",\n",
    "    data=\"enhanced_frs_2022_23\",\n",
    "    time_period=2025,\n",
    "    reform={\n",
    "        \"gov.hmrc.income_tax.allowances.personal_allowance.amount\": {\n",
    "            \"2025\": 0,\n",
    "        }\n",
    "    }\n",
    ")\n",
    "sim.calculate(\"macro/comparison/revenue_impact\")"
   ]
  }
 ],
 "metadata": {
  "kernelspec": {
   "display_name": "base",
   "language": "python",
   "name": "python3"
  },
  "language_info": {
   "codemirror_mode": {
    "name": "ipython",
    "version": 3
   },
   "file_extension": ".py",
   "mimetype": "text/x-python",
   "name": "python",
   "nbconvert_exporter": "python",
   "pygments_lexer": "ipython3",
   "version": "3.10.14"
  }
 },
 "nbformat": 4,
 "nbformat_minor": 2
}
