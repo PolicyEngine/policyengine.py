{
 "cells": [
  {
   "cell_type": "markdown",
   "metadata": {},
   "source": [
    "# Maintainance\n",
    "\n",
    "This package is intended to be simple for users to use, but also for maintainers to maintain (with some kind of maintenance specifically prioritised).\n",
    "\n",
    "There are two ways we might want to improve this package:\n",
    "\n",
    "1. Adding more 'outputs' (e.g. more types of results from the simulation inputs, using the underlying tax-benefit models).\n",
    "2. Everything else related to the underlying way that the package uses the models.\n",
    "\n",
    "This package is meant to make (1) as easy as possible, which may come at the expense of some ease of maintaining (2).\n",
    "\n",
    "## Model outputs\n",
    "\n",
    "The package is centered around an 'output tree': a hierarchical nested dictionary of outputs from the model, of the type that the user asked for. For example, if we are doing a macro analysis, we might expect something like:\n",
    "\n",
    "```yaml\n",
    "macro:\n",
    "    baseline:\n",
    "        tax_revenue: 100 billion\n",
    "    reform:\n",
    "        tax_revenue: 200 billion\n",
    "    comparison:\n",
    "        tax_revenue_impact: 100 billion\n",
    "```\n",
    "\n",
    "If you look at the file structure of the repo, you'll see a folder `policyengine/outputs/`. This is where all the behaviour to deal with the models is housed. It's designed so that maintainers should be able to add something new, e.g. `macro/comparison/deep_poverty_impact` or `macro/single/deep_poverty_rate`, without needing to know how the rest of the repo works. Each file here is dynamically loaded into the tree (notice how `macro/comparison/tax_revenue_impact.py` aligns with that example- not a coincidence!), and must contain a single function, with the same name as the filename, that takes `policyengine.Simulation` as an argument. `policyengine.Simulation` has all the tax-benefit models initialised that the function might need, as well as all the metadata the user has passing in about their modelling request.\n",
    "\n",
    "There's a slight caveat here that not everything aligns exactly with this folder structure. At the top level, we have household and macro, but one layer down, we have 'single' (e.g. 'poverty rate') and 'comparison' (e.g. 'change in poverty rate'). At runtime, 'single' is duplicated into 'baseline' and 'reform' with the operations duplicated. For example, here's the output tree under that example from the introduction."
   ]
  },
  {
   "cell_type": "code",
   "execution_count": 2,
   "metadata": {},
   "outputs": [
    {
     "data": {
      "text/plain": [
       "{'comparison': {'revenue_impact': 137.95680800660614},\n",
       " 'baseline': {'tax_revenue': 649.7843458774124},\n",
       " 'reform': {'tax_revenue': 787.7411538840186}}"
      ]
     },
     "execution_count": 2,
     "metadata": {},
     "output_type": "execute_result"
    }
   ],
   "source": [
    "from policyengine import Simulation\n",
    "\n",
    "sim = Simulation(\n",
    "    country=\"uk\",\n",
    "    scope=\"macro\",\n",
    "    data=\"enhanced_frs_2022_23\",\n",
    "    time_period=2025,\n",
    "    reform={\n",
    "        \"gov.hmrc.income_tax.allowances.personal_allowance.amount\": {\n",
    "            \"2025\": 0,\n",
    "        }\n",
    "    }\n",
    ")\n",
    "sim.calculate(\"macro\")"
   ]
  }
 ],
 "metadata": {
  "kernelspec": {
   "display_name": "base",
   "language": "python",
   "name": "python3"
  },
  "language_info": {
   "codemirror_mode": {
    "name": "ipython",
    "version": 3
   },
   "file_extension": ".py",
   "mimetype": "text/x-python",
   "name": "python",
   "nbconvert_exporter": "python",
   "pygments_lexer": "ipython3",
   "version": "3.10.14"
  }
 },
 "nbformat": 4,
 "nbformat_minor": 2
}
