{
 "cells": [
  {
   "cell_type": "markdown",
   "metadata": {},
   "source": [
    "# Extending this package\n",
    "\n",
    "You might want to add new chart types, output metrics, etc. to the `Simulation` interface in this package. This page explains how to do that.\n",
    "\n",
    "## Instructions\n",
    "\n",
    "Here are the basic steps.\n",
    "\n",
    "1. In `policyengine/outputs`, create a new file (anywhere will work) that defines a function that takes a `Simulation` object **named `simulation`** and returns *whatever* you want.\n",
    "\n",
    "That's it! It'll be automatically added. You can access it like so:\n",
    "\n",
    "```python\n",
    "from policyengine import Simulation\n",
    "\n",
    "sim = Simulation(country=\"us\", scope=\"macro\")\n",
    "\n",
    "sim.calculate_average_mtr() # Assumes that def calculate_average_mtr(sim: Simulation) is defined in e.g. policyengine/outputs/macro/calculate_average_mtr.py\n",
    "```\n",
    "\n",
    "As a reminder, your might look like this:\n",
    "\n",
    "```python\n",
    "from policyengine import Simulation\n",
    "\n",
    "\n",
    "def calculate_average_earnings(simulation: Simulation) -> float:\n",
    "    \"\"\"Calculate average earnings.\"\"\"\n",
    "    employment_income = simulation.baseline_simulation.calculate(\n",
    "        \"employment_income\"\n",
    "    )\n",
    "    return employment_income[employment_income > 0].median()\n",
    "\n",
    "```\n",
    "\n",
    "But there are best practices to follow.\n",
    "\n",
    "\n",
    "## Best practices\n",
    "\n",
    "Look at the `outputs/` folder in the docs- `Average earnings` is a model example for this.\n",
    "\n",
    "1. **Put your new function in a sensible place to keep the code organized.** For example, we have `macro/` and `household/` as top-level folders depending on what the `Simulation` that calls your function is simulating over. Below that, we have `single` and `comparison` depending on whether the user has provided a reform or not. Bear in mind that your new function probably has to assume these two things and will likely break in the wrong context.\n",
    "2. **Make sure your function is well-documented.** This is a public API, so it should be easy to understand how to use it. Please make sure it has a docstring and type hints, and add a Markdown file in the `docs/outputs/` folder (mirror the `calculate_average_earnings` one) that uses autodoc to expose the function, then add it in `docs/toc.yml`.\n",
    "3. **Add tests**. Use pytest in the `tests/` folder to make sure your function works as expected.\n",
    "\n",
    "When writing a function, remember what you have to play with in `Simulation`:\n",
    "\n",
    "1. `Simulation.options` (everything passed to the `Simulation` constructor)\n",
    "2. `Simulation.baseline_simulation` (a `policyengine_core.Simulation` object with the baseline policy)\n",
    "3. `Simulation.reform_simulation` (a `policyengine_core.Simulation` object with the reform policy, if it exists)\n",
    "4. The ablity to construct new `Simulation`s with different options. You have complete flexibility here- you could create an entirely different simulation."
   ]
  }
 ],
 "metadata": {
  "language_info": {
   "name": "python"
  }
 },
 "nbformat": 4,
 "nbformat_minor": 2
}
