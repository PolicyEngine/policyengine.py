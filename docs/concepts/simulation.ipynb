{
 "cells": [
  {
   "cell_type": "markdown",
   "metadata": {},
   "source": [
    "# Simulation interface\n",
    "\n",
    "The `Simulation` class is the core interface of this package. You can initialise it by passing in a dictionary that matches the `SimulationOptions` schema, and then use its `calculate` methods to ask it questions.\n",
    "\n",
    "Some of the options are straightforward and some are more complex. The straightforward ones are:\n",
    "\n",
    "* `country`: `uk` or `us`.\n",
    "* `scope`: `macro` (simulating over large data to represent e.g. a country) or `household` (simulating over specific households you describe).\n",
    "* `time_period`: the year to simulate.\n",
    "\n",
    "The next important features are:\n",
    "* `reform`: the policy to use in the reform scenario if we are comparing against a different scenario.\n",
    "* `baseline`: the policy to use in the baseline scenario if we are comparing against a different baseline scenario.\n",
    "* `data`: either a household (if `scope` is `household`) or a large dataset name (if `scope` is `macro`)."
   ]
  },
  {
   "cell_type": "code",
   "execution_count": 1,
   "metadata": {},
   "outputs": [
    {
     "data": {
      "text/plain": [
       "EconomyComparison(fiscal=FiscalComparison(baseline=FiscalSummary(tax_revenue=658911285719.5891, federal_tax=658911285719.5891, state_tax=0.0, government_spending=349760026840.3932, tax_benefit_programs={'income_tax': 333376287037.05945, 'national_insurance': 52985626776.773834, 'ni_employer': 126330649370.35953, 'vat': 211671832822.39133, 'council_tax': 49007055050.00724, 'fuel_duty': 26506672341.204205, 'tax_credits': -34929879.49872104, 'universal_credit': -73459549194.97665, 'child_benefit': -14311471487.935827, 'state_pension': -132795868621.44594, 'pension_credit': -6252358021.417119}, household_net_income=1566030461192.7288), reform=FiscalSummary(tax_revenue=658911285719.5891, federal_tax=658911285719.5891, state_tax=0.0, government_spending=349760026840.3932, tax_benefit_programs={'income_tax': 333376287037.05945, 'national_insurance': 52985626776.773834, 'ni_employer': 126330649370.35953, 'vat': 211671832822.39133, 'council_tax': 49007055050.00724, 'fuel_duty': 26506672341.204205, 'tax_credits': -34929879.49872104, 'universal_credit': -73459549194.97665, 'child_benefit': -14311471487.935827, 'state_pension': -132795868621.44594, 'pension_credit': -6252358021.417119}, household_net_income=1566030461192.7288), change=FiscalSummary(tax_revenue=0.0, federal_tax=0.0, state_tax=0.0, government_spending=0.0, tax_benefit_programs={'income_tax': 0.0, 'national_insurance': 0.0, 'ni_employer': 0.0, 'vat': 0.0, 'council_tax': 0.0, 'fuel_duty': 0.0, 'tax_credits': 0.0, 'universal_credit': 0.0, 'child_benefit': 0.0, 'state_pension': 0.0, 'pension_credit': 0.0}, household_net_income=0.0)), inequality=InequalitySummary(gini=0.0, top_10_share=0.0, top_1_share=0.0))"
      ]
     },
     "execution_count": 1,
     "metadata": {},
     "output_type": "execute_result"
    }
   ],
   "source": [
    "from policyengine import Simulation\n",
    "\n",
    "sim = Simulation({\n",
    "    \"country\": \"uk\",\n",
    "    \"scope\": \"macro\",\n",
    "    \"reform\": {},\n",
    "    \"time_period\": 2025,\n",
    "})\n",
    "\n",
    "sim.calculate_economy_comparison()"
   ]
  },
  {
   "cell_type": "markdown",
   "metadata": {},
   "source": [
    "## Providing `baseline` and `reform` policies\n",
    "\n",
    "The `baseline` and `reform` policies are dictionaries that represent the policy to simulate. You don't have to provide a reform policy (if you don't, the simulation will just simulate the baseline policy). You also don't have to provide a baseline policy (if you don't, the simulation will just compare your reform scenario against current law).\n",
    "\n",
    "If you do, they should each follow this syntax:\n",
    "\n",
    "```json\n",
    "{\n",
    "    \"gov.hmrc.income_tax.rate\": { // Parameter address, in the country model's `parameters/` folder\n",
    "        \"2025\": 0.2 // Value to set the parameter to in the year 2025\n",
    "    }\n",
    "}\n",
    "```\n",
    "\n",
    "You can also use this shorthand to set parameters for all years:\n",
    "\n",
    "```json\n",
    "{\n",
    "    \"gov.hmrc.income_tax.rate\": 0.2\n",
    "}\n",
    "```\n",
    "\n",
    "## Providing `data`\n",
    "\n",
    "If you set `scope` to `macro`, you should provide either:\n",
    "\n",
    "* A Hugging Face `.h5` dataset address in this format: `\"hf://policyengine/policyengine-us-data/cps_2023.h5\"` (`hf://owner/dataset-name/path.h5`).\n",
    "* An instance of `policyengine_core.data.Dataset` (advanced).\n",
    "\n",
    "See `policyengine.constants` for the available datasets.\n",
    "\n",
    "If you set `scope` to `household`, you should provide a dictionary that represents a household. This should look like:\n",
    "\n",
    "```json\n",
    "{\n",
    "    \"people\": { // Entity group\n",
    "        \"person\": { // Entity name\n",
    "            \"age\": { // Variable (in the country model's `variables/` folder)\n",
    "                \"2025\": 30, // Time period and value\n",
    "            }\n",
    "        }\n",
    "    },\n",
    "    \"households\": {\n",
    "        \"household\": {\n",
    "            \"members\": [\"person\"], // Group entities need a `members` field\n",
    "            \"region\": {\n",
    "                \"2025\": \"LONDON\",\n",
    "            }\n",
    "        }\n",
    "    }\n",
    "}\n",
    "```\n",
    "\n",
    "See the country model's repository for more information on what entity types are available.\n",
    "\n",
    "## Module documentation\n",
    "\n",
    "```{eval-rst}\n",
    ".. automodule:: policyengine.simulation\n",
    "    :members:\n"
   ]
  }
 ],
 "metadata": {
  "kernelspec": {
   "display_name": "base",
   "language": "python",
   "name": "python3"
  },
  "language_info": {
   "codemirror_mode": {
    "name": "ipython",
    "version": 3
   },
   "file_extension": ".py",
   "mimetype": "text/x-python",
   "name": "python",
   "nbconvert_exporter": "python",
   "pygments_lexer": "ipython3",
   "version": "3.10.14"
  }
 },
 "nbformat": 4,
 "nbformat_minor": 2
}
