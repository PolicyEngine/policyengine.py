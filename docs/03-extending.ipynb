{
 "cells": [
  {
   "cell_type": "markdown",
   "metadata": {},
   "source": [
    "# Extending: policies, dynamics, and reports\n",
    "\n",
    "This page shows how the base models fit together and how to add custom report elements that return tables."
   ]
  },
  {
   "cell_type": "markdown",
   "metadata": {},
   "source": [
    "## Base models in practice\n",
    "\n",
    "- `Dataset` wraps a `SingleYearDataset` of entity tables (e.g., person, household) for one year.\n",
    "- `Policy` and `Dynamics` hold parameter changes (`ParameterValue`) and optional `simulation_modifier` callables.\n",
    "- `Simulation` ties them together and runs country-specific logic to populate `simulation.result`.\n",
    "- `ReportElement` subclasses compute analyses and return a pandas DataFrame.\n",
    "\n",
    "You can create a policy change by declaring a `Parameter` and a `ParameterValue`, then passing it to `Policy(parameter_values=[...])`. Dynamics work the same way."
   ]
  },
  {
   "cell_type": "code",
   "execution_count": 1,
   "metadata": {},
   "outputs": [],
   "source": [
    "from datetime import datetime\n",
    "from policyengine.models import Policy, Dynamics, Parameter, ParameterValue\n",
    "param = Parameter(name=\"demo.parameter\", data_type=float)\n",
    "pv = ParameterValue(parameter=param, model_version=\"1.0.0\", start_date=datetime(2025,1,1), value=1.23)\n",
    "policy = Policy(name=\"demo policy\", parameter_values=[pv])\n",
    "dynamics = Dynamics(name=\"static\")\n"
   ]
  },
  {
   "cell_type": "markdown",
   "metadata": {},
   "source": [
    "## Custom report elements\n",
    "\n",
    "Subclass `ReportElement` and implement `run()` to return a table. Keep analyses table-first so results are easy to store and compare later.\n",
    "\n",
    "Below, we build a tiny toy dataset with a household table containing `gov_balance` and `weight_value`. We then define a report element that computes weighted means by decile."
   ]
  },
  {
   "cell_type": "code",
   "execution_count": 2,
   "metadata": {},
   "outputs": [
    {
     "data": {
      "text/html": [
       "<div>\n",
       "<style scoped>\n",
       "    .dataframe tbody tr th:only-of-type {\n",
       "        vertical-align: middle;\n",
       "    }\n",
       "\n",
       "    .dataframe tbody tr th {\n",
       "        vertical-align: top;\n",
       "    }\n",
       "\n",
       "    .dataframe thead th {\n",
       "        text-align: right;\n",
       "    }\n",
       "</style>\n",
       "<table border=\"1\" class=\"dataframe\">\n",
       "  <thead>\n",
       "    <tr style=\"text-align: right;\">\n",
       "      <th></th>\n",
       "      <th>household_id</th>\n",
       "      <th>gov_balance</th>\n",
       "      <th>weight_value</th>\n",
       "    </tr>\n",
       "  </thead>\n",
       "  <tbody>\n",
       "    <tr>\n",
       "      <th>0</th>\n",
       "      <td>1</td>\n",
       "      <td>-2000</td>\n",
       "      <td>10</td>\n",
       "    </tr>\n",
       "    <tr>\n",
       "      <th>1</th>\n",
       "      <td>2</td>\n",
       "      <td>-500</td>\n",
       "      <td>20</td>\n",
       "    </tr>\n",
       "    <tr>\n",
       "      <th>2</th>\n",
       "      <td>3</td>\n",
       "      <td>0</td>\n",
       "      <td>5</td>\n",
       "    </tr>\n",
       "    <tr>\n",
       "      <th>3</th>\n",
       "      <td>4</td>\n",
       "      <td>250</td>\n",
       "      <td>10</td>\n",
       "    </tr>\n",
       "    <tr>\n",
       "      <th>4</th>\n",
       "      <td>5</td>\n",
       "      <td>500</td>\n",
       "      <td>25</td>\n",
       "    </tr>\n",
       "  </tbody>\n",
       "</table>\n",
       "</div>"
      ],
      "text/plain": [
       "   household_id  gov_balance  weight_value\n",
       "0             1        -2000            10\n",
       "1             2         -500            20\n",
       "2             3            0             5\n",
       "3             4          250            10\n",
       "4             5          500            25"
      ]
     },
     "execution_count": 2,
     "metadata": {},
     "output_type": "execute_result"
    }
   ],
   "source": [
    "import pandas as pd\n",
    "from dataclasses import dataclass\n",
    "from policyengine.models import Dataset, Simulation, Report\n",
    "from policyengine.models.single_year_dataset import SingleYearDataset\n",
    "from policyengine.models.reports import ReportElement\n",
    "\n",
    "# Build a small, realistic household table\n",
    "household = pd.DataFrame({\n",
    "    'household_id': [1,2,3,4,5,6,7,8,9,10],\n",
    "    'gov_balance':   [-2000, -500, 0, 250, 500,  750,  1000,  2000,  4000, 8000],\n",
    "    'weight_value':  [   10,   20, 5,  10, 25,   15,    5,    5,   10,    5],\n",
    "})\n",
    "toy = Dataset(\n",
    "    name=\"toy\",\n",
    "    data=SingleYearDataset(tables={'household': household}, year=2024),\n",
    "    dataset_type=\"uk\",\n",
    ")\n",
    "sim = Simulation(dataset=toy, policy=policy, dynamics=dynamics, country=\"uk\")\n",
    "# For custom report elements, we can set a result directly when we already have tables\n",
    "sim.result = toy\n",
    "household.head()\n"
   ]
  },
  {
   "cell_type": "code",
   "execution_count": 3,
   "metadata": {},
   "outputs": [
    {
     "name": "stderr",
     "output_type": "stream",
     "text": [
      "/var/folders/4b/b61z5j8n4x34kmv3zmtbqcgm0000gn/T/ipykernel_16239/3757811630.py:10: FutureWarning: The default of observed=False is deprecated and will be changed to True in a future version of pandas. Pass observed=False to retain current behavior or observed=True to adopt the future default and silence this warning.\n",
      "  df.groupby('decile').apply(\n",
      "/var/folders/4b/b61z5j8n4x34kmv3zmtbqcgm0000gn/T/ipykernel_16239/3757811630.py:10: FutureWarning: DataFrameGroupBy.apply operated on the grouping columns. This behavior is deprecated, and in a future version of pandas the grouping columns will be excluded from the operation. Either pass `include_groups=False` to exclude the groupings or explicitly select the grouping columns after groupby to silence this warning.\n",
      "  df.groupby('decile').apply(\n"
     ]
    },
    {
     "data": {
      "text/html": [
       "<div>\n",
       "<style scoped>\n",
       "    .dataframe tbody tr th:only-of-type {\n",
       "        vertical-align: middle;\n",
       "    }\n",
       "\n",
       "    .dataframe tbody tr th {\n",
       "        vertical-align: top;\n",
       "    }\n",
       "\n",
       "    .dataframe thead th {\n",
       "        text-align: right;\n",
       "    }\n",
       "</style>\n",
       "<table border=\"1\" class=\"dataframe\">\n",
       "  <thead>\n",
       "    <tr style=\"text-align: right;\">\n",
       "      <th></th>\n",
       "      <th>decile</th>\n",
       "      <th>mean_gov_balance</th>\n",
       "    </tr>\n",
       "  </thead>\n",
       "  <tbody>\n",
       "    <tr>\n",
       "      <th>0</th>\n",
       "      <td>1</td>\n",
       "      <td>-2000.0</td>\n",
       "    </tr>\n",
       "    <tr>\n",
       "      <th>1</th>\n",
       "      <td>2</td>\n",
       "      <td>-500.0</td>\n",
       "    </tr>\n",
       "    <tr>\n",
       "      <th>2</th>\n",
       "      <td>3</td>\n",
       "      <td>0.0</td>\n",
       "    </tr>\n",
       "    <tr>\n",
       "      <th>3</th>\n",
       "      <td>4</td>\n",
       "      <td>250.0</td>\n",
       "    </tr>\n",
       "    <tr>\n",
       "      <th>4</th>\n",
       "      <td>5</td>\n",
       "      <td>500.0</td>\n",
       "    </tr>\n",
       "    <tr>\n",
       "      <th>5</th>\n",
       "      <td>6</td>\n",
       "      <td>750.0</td>\n",
       "    </tr>\n",
       "    <tr>\n",
       "      <th>6</th>\n",
       "      <td>7</td>\n",
       "      <td>1000.0</td>\n",
       "    </tr>\n",
       "    <tr>\n",
       "      <th>7</th>\n",
       "      <td>8</td>\n",
       "      <td>2000.0</td>\n",
       "    </tr>\n",
       "    <tr>\n",
       "      <th>8</th>\n",
       "      <td>9</td>\n",
       "      <td>4000.0</td>\n",
       "    </tr>\n",
       "    <tr>\n",
       "      <th>9</th>\n",
       "      <td>10</td>\n",
       "      <td>8000.0</td>\n",
       "    </tr>\n",
       "  </tbody>\n",
       "</table>\n",
       "</div>"
      ],
      "text/plain": [
       "  decile  mean_gov_balance\n",
       "0      1           -2000.0\n",
       "1      2            -500.0\n",
       "2      3               0.0\n",
       "3      4             250.0\n",
       "4      5             500.0\n",
       "5      6             750.0\n",
       "6      7            1000.0\n",
       "7      8            2000.0\n",
       "8      9            4000.0\n",
       "9     10            8000.0"
      ]
     },
     "execution_count": 3,
     "metadata": {},
     "output_type": "execute_result"
    }
   ],
   "source": [
    "class BalanceByDecile(ReportElement):\n",
    "    sim: Simulation\n",
    "\n",
    "    def run(self) -> pd.DataFrame:\n",
    "        df = self.sim.result.data.tables['household'][['gov_balance','weight_value']].copy()\n",
    "        # Compute deciles on gov_balance\n",
    "        df['decile'] = pd.qcut(df['gov_balance'], 10, labels=range(1,11), duplicates='drop')\n",
    "        # Weighted mean by decile\n",
    "        out = (\n",
    "            df.groupby('decile').apply(\n",
    "                lambda g: (g['gov_balance'] * g['weight_value']).sum() / g['weight_value'].sum()\n",
    "            ).reset_index(name='mean_gov_balance')\n",
    "        )\n",
    "        return out\n",
    "\n",
    "BalanceByDecile(name=\"balance by decile\", sim=sim).run()\n"
   ]
  },
  {
   "cell_type": "markdown",
   "metadata": {},
   "source": [
    "### Notes\n",
    "\n",
    "- Keep report elements pure and table-focused; return a DataFrame you can store.\n",
    "- You can combine multiple custom elements in a `Report` for batch runs.\n",
    "- For built-in examples, see `AggregateChangeReportElement` which compares aggregates across simulations."
   ]
  }
 ],
 "metadata": {
  "kernelspec": {
   "display_name": "policyengine",
   "language": "python",
   "name": "python3"
  },
  "language_info": {
   "codemirror_mode": {
    "name": "ipython",
    "version": 3
   },
   "file_extension": ".py",
   "mimetype": "text/x-python",
   "name": "python",
   "nbconvert_exporter": "python",
   "pygments_lexer": "ipython3",
   "version": "3.13.5"
  }
 },
 "nbformat": 4,
 "nbformat_minor": 5
}
