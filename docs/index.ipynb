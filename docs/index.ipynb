{
 "cells": [
  {
   "cell_type": "markdown",
   "metadata": {},
   "source": [
    "# PolicyEngine.py overview\n",
    "\n",
    "- [Datasets](00-datasets)\n",
    "Build and run policy simulations, then produce table-first analyses you can store easily.\n",
    "\n",
    "This book focuses on real examples: start with quickstarts for the UK and US, then learn how the base models relate and how to extend policies, dynamics, and report elements.\n",
    "\n",
    "- [UK quickstart](01-quickstart-uk)\n",
    "- [US quickstart](02-quickstart-us)\n",
    "- [Extending: policies, dynamics, and reports](03-extending)\n",
    "\n",
    "All pages are notebooks and execute without errors.\n"
   ]
  }
 ],
 "metadata": {
  "kernelspec": {
   "display_name": "Python 3",
   "language": "python",
   "name": "python3"
  },
  "language_info": {
   "name": "python",
   "pygments_lexer": "ipython3"
  }
 },
 "nbformat": 4,
 "nbformat_minor": 5
}