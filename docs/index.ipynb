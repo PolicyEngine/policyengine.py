{
 "cells": [
  {
   "cell_type": "markdown",
   "metadata": {},
   "source": [
    "# Introduction\n",
    "\n",
    "The PolicyEngine Python package serves as a package unifying all PolicyEngine tax-benefit models and outputs, providing the highest-level interface outside of the web app. It's aimed to provide a clear, simple interface to specify model inputs and pull out model outputs, both at the household and macro level.\n",
    "\n",
    "Generally, PolicyEngine's models' usage falls into a 2x2 of categories:\n",
    "\n",
    "1. Simulating over a specific household\n",
    "\n",
    "    a. Simulating a particular policy (scenario) over a household (e.g. what benefits am I entitled to now?)\n",
    "\n",
    "    b. Comparing two policies over a household (how would this tax reform affect my net income?)\n",
    "2. Simulating over the entire population\n",
    "\n",
    "    a. Simulating a particular policy over the population (what's the poverty rate right now?)\n",
    "\n",
    "    b. Comparing two policies over the population (how would this tax reform affect the poverty rate?)\n",
    "\n",
    "\n",
    "Here's an example of how to use it to calculate how abolishing the Personal Allowance in the UK (US- standard deduction) would affect an earner on £30,000."
   ]
  },
  {
   "cell_type": "code",
   "execution_count": 1,
   "metadata": {},
   "outputs": [
    {
     "ename": "AttributeError",
     "evalue": "'Simulation' object has no attribute 'calculate_macro_comparison'",
     "output_type": "error",
     "traceback": [
      "\u001b[0;31m---------------------------------------------------------------------------\u001b[0m",
      "\u001b[0;31mAttributeError\u001b[0m                            Traceback (most recent call last)",
      "Cell \u001b[0;32mIn[1], line 18\u001b[0m\n\u001b[1;32m      1\u001b[0m \u001b[38;5;28;01mfrom\u001b[39;00m \u001b[38;5;21;01mpolicyengine\u001b[39;00m \u001b[38;5;28;01mimport\u001b[39;00m Simulation\n\u001b[1;32m      3\u001b[0m sim \u001b[38;5;241m=\u001b[39m Simulation(\n\u001b[1;32m      4\u001b[0m     country\u001b[38;5;241m=\u001b[39m\u001b[38;5;124m\"\u001b[39m\u001b[38;5;124muk\u001b[39m\u001b[38;5;124m\"\u001b[39m,\n\u001b[1;32m      5\u001b[0m     scope\u001b[38;5;241m=\u001b[39m\u001b[38;5;124m\"\u001b[39m\u001b[38;5;124mhousehold\u001b[39m\u001b[38;5;124m\"\u001b[39m,\n\u001b[0;32m   (...)\u001b[0m\n\u001b[1;32m     16\u001b[0m     }\n\u001b[1;32m     17\u001b[0m )\n\u001b[0;32m---> 18\u001b[0m \u001b[43msim\u001b[49m\u001b[38;5;241;43m.\u001b[39;49m\u001b[43mcalculate_macro_comparison\u001b[49m()\n",
      "\u001b[0;31mAttributeError\u001b[0m: 'Simulation' object has no attribute 'calculate_macro_comparison'"
     ]
    }
   ],
   "source": [
    "from policyengine import Simulation\n",
    "\n",
    "sim = Simulation(\n",
    "    country=\"uk\",\n",
    "    scope=\"household\",\n",
    "    data={\n",
    "        \"employment_income\": {\n",
    "            2025: 30_000\n",
    "        },\n",
    "    },\n",
    "    time_period=2025,\n",
    "    reform={\n",
    "        \"gov.hmrc.income_tax.allowances.personal_allowance.amount\": {\n",
    "            \"2025\": 0,\n",
    "        }\n",
    "    }\n",
    ")\n",
    "sim.calculate_macro_comparison()"
   ]
  },
  {
   "cell_type": "markdown",
   "metadata": {},
   "source": [
    "And here's an example of how to calculate how the same policy would affect the UK government's tax revenue."
   ]
  },
  {
   "cell_type": "code",
   "execution_count": 2,
   "metadata": {},
   "outputs": [
    {
     "data": {
      "text/plain": [
       "130.69994101206225"
      ]
     },
     "execution_count": 2,
     "metadata": {},
     "output_type": "execute_result"
    }
   ],
   "source": [
    "sim = Simulation(\n",
    "    country=\"uk\",\n",
    "    scope=\"macro\",\n",
    "    data=\"enhanced_frs\",\n",
    "    time_period=2025,\n",
    "    reform={\n",
    "        \"gov.hmrc.income_tax.allowances.personal_allowance.amount\": {\n",
    "            \"2025\": 0,\n",
    "        }\n",
    "    }\n",
    ")\n",
    "sim.calculate_macro_comparison()"
   ]
  }
 ],
 "metadata": {
  "kernelspec": {
   "display_name": "base",
   "language": "python",
   "name": "python3"
  },
  "language_info": {
   "codemirror_mode": {
    "name": "ipython",
    "version": 3
   },
   "file_extension": ".py",
   "mimetype": "text/x-python",
   "name": "python",
   "nbconvert_exporter": "python",
   "pygments_lexer": "ipython3",
   "version": "3.10.14"
  }
 },
 "nbformat": 4,
 "nbformat_minor": 2
}
