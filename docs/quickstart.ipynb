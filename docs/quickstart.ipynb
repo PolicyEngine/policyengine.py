{
 "cells": [
  {
   "cell_type": "markdown",
   "id": "b5510438",
   "metadata": {},
   "source": [
    "# Getting started\n",
    "\n",
    "In this notebook, we'll walk through how to use the PolicyEngine.py package to run simulations and produce analyses. We'll start with a basic analysis in the UK that doesn't use any databases, and then start saving and loading things into a database.\n",
    "\n",
    "## Basic analysis\n",
    "\n",
    "To start, let's run through a simulation of the UK, and create a chart of the distribution of household income."
   ]
  },
  {
   "cell_type": "code",
   "execution_count": 1,
   "id": "7eb9b5a0",
   "metadata": {},
   "outputs": [
    {
     "data": {
      "text/html": [
       "\n",
       "    <link rel=\"preconnect\" href=\"https://fonts.googleapis.com\">\n",
       "    <link rel=\"preconnect\" href=\"https://fonts.gstatic.com\" crossorigin>\n",
       "    <link href=\"https://fonts.googleapis.com/css2?family=Roboto+Serif:ital,opsz,wght@0,8..144,100..900;1,8..144,100..900&display=swap\" rel=\"stylesheet\">\n",
       "    <link href=\"https://fonts.googleapis.com/css2?family=Roboto+Mono:ital,wght@0,100..700;1,100..700&display=swap\" rel=\"stylesheet\">\n",
       "    "
      ]
     },
     "metadata": {},
     "output_type": "display_data"
    },
    {
     "data": {
      "application/vnd.plotly.v1+json": {
       "config": {
        "plotlyServerURL": "https://plot.ly"
       },
       "data": [
        {
         "marker": {
          "color": "#319795"
         },
         "textfont": {
          "color": "#6B7280",
          "family": "Roboto Mono, monospace",
          "size": 11
         },
         "textposition": "outside",
         "texttemplate": "%{y:,.0f}",
         "type": "bar",
         "x": [
          "£0",
          "£20,000",
          "£40,000",
          "£60,000",
          "£80,000",
          "£100,000",
          "£150,000",
          "£200,000",
          "£300,000",
          "£500,000"
         ],
         "y": [
          6615287.18908169,
          10306953.140547385,
          7131556.623589764,
          4323144.591107131,
          1691347.2904351307,
          1320115.9262172873,
          326076.2586429423,
          187608.23132836912,
          63106.63353048405,
          41838.373842805624
         ]
        }
       ],
       "layout": {
        "font": {
         "color": "#101828",
         "family": "Roboto, sans-serif",
         "size": 14
        },
        "hoverlabel": {
         "bgcolor": "white",
         "bordercolor": "#81E6D9",
         "font": {
          "family": "Roboto Mono, monospace",
          "size": 12
         }
        },
        "hovermode": "x unified",
        "paper_bgcolor": "white",
        "plot_bgcolor": "white",
        "showlegend": false,
        "template": {
         "data": {
          "bar": [
           {
            "error_x": {
             "color": "#2a3f5f"
            },
            "error_y": {
             "color": "#2a3f5f"
            },
            "marker": {
             "line": {
              "color": "#E5ECF6",
              "width": 0.5
             },
             "pattern": {
              "fillmode": "overlay",
              "size": 10,
              "solidity": 0.2
             }
            },
            "type": "bar"
           }
          ],
          "barpolar": [
           {
            "marker": {
             "line": {
              "color": "#E5ECF6",
              "width": 0.5
             },
             "pattern": {
              "fillmode": "overlay",
              "size": 10,
              "solidity": 0.2
             }
            },
            "type": "barpolar"
           }
          ],
          "carpet": [
           {
            "aaxis": {
             "endlinecolor": "#2a3f5f",
             "gridcolor": "white",
             "linecolor": "white",
             "minorgridcolor": "white",
             "startlinecolor": "#2a3f5f"
            },
            "baxis": {
             "endlinecolor": "#2a3f5f",
             "gridcolor": "white",
             "linecolor": "white",
             "minorgridcolor": "white",
             "startlinecolor": "#2a3f5f"
            },
            "type": "carpet"
           }
          ],
          "choropleth": [
           {
            "colorbar": {
             "outlinewidth": 0,
             "ticks": ""
            },
            "type": "choropleth"
           }
          ],
          "contour": [
           {
            "colorbar": {
             "outlinewidth": 0,
             "ticks": ""
            },
            "colorscale": [
             [
              0,
              "#0d0887"
             ],
             [
              0.1111111111111111,
              "#46039f"
             ],
             [
              0.2222222222222222,
              "#7201a8"
             ],
             [
              0.3333333333333333,
              "#9c179e"
             ],
             [
              0.4444444444444444,
              "#bd3786"
             ],
             [
              0.5555555555555556,
              "#d8576b"
             ],
             [
              0.6666666666666666,
              "#ed7953"
             ],
             [
              0.7777777777777778,
              "#fb9f3a"
             ],
             [
              0.8888888888888888,
              "#fdca26"
             ],
             [
              1,
              "#f0f921"
             ]
            ],
            "type": "contour"
           }
          ],
          "contourcarpet": [
           {
            "colorbar": {
             "outlinewidth": 0,
             "ticks": ""
            },
            "type": "contourcarpet"
           }
          ],
          "heatmap": [
           {
            "colorbar": {
             "outlinewidth": 0,
             "ticks": ""
            },
            "colorscale": [
             [
              0,
              "#0d0887"
             ],
             [
              0.1111111111111111,
              "#46039f"
             ],
             [
              0.2222222222222222,
              "#7201a8"
             ],
             [
              0.3333333333333333,
              "#9c179e"
             ],
             [
              0.4444444444444444,
              "#bd3786"
             ],
             [
              0.5555555555555556,
              "#d8576b"
             ],
             [
              0.6666666666666666,
              "#ed7953"
             ],
             [
              0.7777777777777778,
              "#fb9f3a"
             ],
             [
              0.8888888888888888,
              "#fdca26"
             ],
             [
              1,
              "#f0f921"
             ]
            ],
            "type": "heatmap"
           }
          ],
          "heatmapgl": [
           {
            "colorbar": {
             "outlinewidth": 0,
             "ticks": ""
            },
            "colorscale": [
             [
              0,
              "#0d0887"
             ],
             [
              0.1111111111111111,
              "#46039f"
             ],
             [
              0.2222222222222222,
              "#7201a8"
             ],
             [
              0.3333333333333333,
              "#9c179e"
             ],
             [
              0.4444444444444444,
              "#bd3786"
             ],
             [
              0.5555555555555556,
              "#d8576b"
             ],
             [
              0.6666666666666666,
              "#ed7953"
             ],
             [
              0.7777777777777778,
              "#fb9f3a"
             ],
             [
              0.8888888888888888,
              "#fdca26"
             ],
             [
              1,
              "#f0f921"
             ]
            ],
            "type": "heatmapgl"
           }
          ],
          "histogram": [
           {
            "marker": {
             "pattern": {
              "fillmode": "overlay",
              "size": 10,
              "solidity": 0.2
             }
            },
            "type": "histogram"
           }
          ],
          "histogram2d": [
           {
            "colorbar": {
             "outlinewidth": 0,
             "ticks": ""
            },
            "colorscale": [
             [
              0,
              "#0d0887"
             ],
             [
              0.1111111111111111,
              "#46039f"
             ],
             [
              0.2222222222222222,
              "#7201a8"
             ],
             [
              0.3333333333333333,
              "#9c179e"
             ],
             [
              0.4444444444444444,
              "#bd3786"
             ],
             [
              0.5555555555555556,
              "#d8576b"
             ],
             [
              0.6666666666666666,
              "#ed7953"
             ],
             [
              0.7777777777777778,
              "#fb9f3a"
             ],
             [
              0.8888888888888888,
              "#fdca26"
             ],
             [
              1,
              "#f0f921"
             ]
            ],
            "type": "histogram2d"
           }
          ],
          "histogram2dcontour": [
           {
            "colorbar": {
             "outlinewidth": 0,
             "ticks": ""
            },
            "colorscale": [
             [
              0,
              "#0d0887"
             ],
             [
              0.1111111111111111,
              "#46039f"
             ],
             [
              0.2222222222222222,
              "#7201a8"
             ],
             [
              0.3333333333333333,
              "#9c179e"
             ],
             [
              0.4444444444444444,
              "#bd3786"
             ],
             [
              0.5555555555555556,
              "#d8576b"
             ],
             [
              0.6666666666666666,
              "#ed7953"
             ],
             [
              0.7777777777777778,
              "#fb9f3a"
             ],
             [
              0.8888888888888888,
              "#fdca26"
             ],
             [
              1,
              "#f0f921"
             ]
            ],
            "type": "histogram2dcontour"
           }
          ],
          "mesh3d": [
           {
            "colorbar": {
             "outlinewidth": 0,
             "ticks": ""
            },
            "type": "mesh3d"
           }
          ],
          "parcoords": [
           {
            "line": {
             "colorbar": {
              "outlinewidth": 0,
              "ticks": ""
             }
            },
            "type": "parcoords"
           }
          ],
          "pie": [
           {
            "automargin": true,
            "type": "pie"
           }
          ],
          "scatter": [
           {
            "fillpattern": {
             "fillmode": "overlay",
             "size": 10,
             "solidity": 0.2
            },
            "type": "scatter"
           }
          ],
          "scatter3d": [
           {
            "line": {
             "colorbar": {
              "outlinewidth": 0,
              "ticks": ""
             }
            },
            "marker": {
             "colorbar": {
              "outlinewidth": 0,
              "ticks": ""
             }
            },
            "type": "scatter3d"
           }
          ],
          "scattercarpet": [
           {
            "marker": {
             "colorbar": {
              "outlinewidth": 0,
              "ticks": ""
             }
            },
            "type": "scattercarpet"
           }
          ],
          "scattergeo": [
           {
            "marker": {
             "colorbar": {
              "outlinewidth": 0,
              "ticks": ""
             }
            },
            "type": "scattergeo"
           }
          ],
          "scattergl": [
           {
            "marker": {
             "colorbar": {
              "outlinewidth": 0,
              "ticks": ""
             }
            },
            "type": "scattergl"
           }
          ],
          "scattermapbox": [
           {
            "marker": {
             "colorbar": {
              "outlinewidth": 0,
              "ticks": ""
             }
            },
            "type": "scattermapbox"
           }
          ],
          "scatterpolar": [
           {
            "marker": {
             "colorbar": {
              "outlinewidth": 0,
              "ticks": ""
             }
            },
            "type": "scatterpolar"
           }
          ],
          "scatterpolargl": [
           {
            "marker": {
             "colorbar": {
              "outlinewidth": 0,
              "ticks": ""
             }
            },
            "type": "scatterpolargl"
           }
          ],
          "scatterternary": [
           {
            "marker": {
             "colorbar": {
              "outlinewidth": 0,
              "ticks": ""
             }
            },
            "type": "scatterternary"
           }
          ],
          "surface": [
           {
            "colorbar": {
             "outlinewidth": 0,
             "ticks": ""
            },
            "colorscale": [
             [
              0,
              "#0d0887"
             ],
             [
              0.1111111111111111,
              "#46039f"
             ],
             [
              0.2222222222222222,
              "#7201a8"
             ],
             [
              0.3333333333333333,
              "#9c179e"
             ],
             [
              0.4444444444444444,
              "#bd3786"
             ],
             [
              0.5555555555555556,
              "#d8576b"
             ],
             [
              0.6666666666666666,
              "#ed7953"
             ],
             [
              0.7777777777777778,
              "#fb9f3a"
             ],
             [
              0.8888888888888888,
              "#fdca26"
             ],
             [
              1,
              "#f0f921"
             ]
            ],
            "type": "surface"
           }
          ],
          "table": [
           {
            "cells": {
             "fill": {
              "color": "#EBF0F8"
             },
             "line": {
              "color": "white"
             }
            },
            "header": {
             "fill": {
              "color": "#C8D4E3"
             },
             "line": {
              "color": "white"
             }
            },
            "type": "table"
           }
          ]
         },
         "layout": {
          "annotationdefaults": {
           "arrowcolor": "#2a3f5f",
           "arrowhead": 0,
           "arrowwidth": 1
          },
          "autotypenumbers": "strict",
          "coloraxis": {
           "colorbar": {
            "outlinewidth": 0,
            "ticks": ""
           }
          },
          "colorscale": {
           "diverging": [
            [
             0,
             "#8e0152"
            ],
            [
             0.1,
             "#c51b7d"
            ],
            [
             0.2,
             "#de77ae"
            ],
            [
             0.3,
             "#f1b6da"
            ],
            [
             0.4,
             "#fde0ef"
            ],
            [
             0.5,
             "#f7f7f7"
            ],
            [
             0.6,
             "#e6f5d0"
            ],
            [
             0.7,
             "#b8e186"
            ],
            [
             0.8,
             "#7fbc41"
            ],
            [
             0.9,
             "#4d9221"
            ],
            [
             1,
             "#276419"
            ]
           ],
           "sequential": [
            [
             0,
             "#0d0887"
            ],
            [
             0.1111111111111111,
             "#46039f"
            ],
            [
             0.2222222222222222,
             "#7201a8"
            ],
            [
             0.3333333333333333,
             "#9c179e"
            ],
            [
             0.4444444444444444,
             "#bd3786"
            ],
            [
             0.5555555555555556,
             "#d8576b"
            ],
            [
             0.6666666666666666,
             "#ed7953"
            ],
            [
             0.7777777777777778,
             "#fb9f3a"
            ],
            [
             0.8888888888888888,
             "#fdca26"
            ],
            [
             1,
             "#f0f921"
            ]
           ],
           "sequentialminus": [
            [
             0,
             "#0d0887"
            ],
            [
             0.1111111111111111,
             "#46039f"
            ],
            [
             0.2222222222222222,
             "#7201a8"
            ],
            [
             0.3333333333333333,
             "#9c179e"
            ],
            [
             0.4444444444444444,
             "#bd3786"
            ],
            [
             0.5555555555555556,
             "#d8576b"
            ],
            [
             0.6666666666666666,
             "#ed7953"
            ],
            [
             0.7777777777777778,
             "#fb9f3a"
            ],
            [
             0.8888888888888888,
             "#fdca26"
            ],
            [
             1,
             "#f0f921"
            ]
           ]
          },
          "colorway": [
           "#636efa",
           "#EF553B",
           "#00cc96",
           "#ab63fa",
           "#FFA15A",
           "#19d3f3",
           "#FF6692",
           "#B6E880",
           "#FF97FF",
           "#FECB52"
          ],
          "font": {
           "color": "#2a3f5f"
          },
          "geo": {
           "bgcolor": "white",
           "lakecolor": "white",
           "landcolor": "#E5ECF6",
           "showlakes": true,
           "showland": true,
           "subunitcolor": "white"
          },
          "hoverlabel": {
           "align": "left"
          },
          "hovermode": "closest",
          "mapbox": {
           "style": "light"
          },
          "paper_bgcolor": "white",
          "plot_bgcolor": "#E5ECF6",
          "polar": {
           "angularaxis": {
            "gridcolor": "white",
            "linecolor": "white",
            "ticks": ""
           },
           "bgcolor": "#E5ECF6",
           "radialaxis": {
            "gridcolor": "white",
            "linecolor": "white",
            "ticks": ""
           }
          },
          "scene": {
           "xaxis": {
            "backgroundcolor": "#E5ECF6",
            "gridcolor": "white",
            "gridwidth": 2,
            "linecolor": "white",
            "showbackground": true,
            "ticks": "",
            "zerolinecolor": "white"
           },
           "yaxis": {
            "backgroundcolor": "#E5ECF6",
            "gridcolor": "white",
            "gridwidth": 2,
            "linecolor": "white",
            "showbackground": true,
            "ticks": "",
            "zerolinecolor": "white"
           },
           "zaxis": {
            "backgroundcolor": "#E5ECF6",
            "gridcolor": "white",
            "gridwidth": 2,
            "linecolor": "white",
            "showbackground": true,
            "ticks": "",
            "zerolinecolor": "white"
           }
          },
          "shapedefaults": {
           "line": {
            "color": "#2a3f5f"
           }
          },
          "ternary": {
           "aaxis": {
            "gridcolor": "white",
            "linecolor": "white",
            "ticks": ""
           },
           "baxis": {
            "gridcolor": "white",
            "linecolor": "white",
            "ticks": ""
           },
           "bgcolor": "#E5ECF6",
           "caxis": {
            "gridcolor": "white",
            "linecolor": "white",
            "ticks": ""
           }
          },
          "title": {
           "x": 0.05
          },
          "xaxis": {
           "automargin": true,
           "gridcolor": "white",
           "linecolor": "white",
           "ticks": "",
           "title": {
            "standoff": 15
           },
           "zerolinecolor": "white",
           "zerolinewidth": 2
          },
          "yaxis": {
           "automargin": true,
           "gridcolor": "white",
           "linecolor": "white",
           "ticks": "",
           "title": {
            "standoff": 15
           },
           "zerolinecolor": "white",
           "zerolinewidth": 2
          }
         }
        },
        "title": {
         "font": {
          "color": "#101828",
          "family": "Roboto, sans-serif",
          "size": 20,
          "weight": 500
         },
         "text": "The distribution of household income in the UK"
        },
        "xaxis": {
         "gridcolor": "#E2E8F0",
         "gridwidth": 1,
         "linecolor": "#E2E8F0",
         "linewidth": 1,
         "mirror": false,
         "showgrid": true,
         "showline": true,
         "tickfont": {
          "color": "#6B7280",
          "family": "Roboto Mono, monospace",
          "size": 11
         },
         "title": {
          "font": {
           "color": "#6B7280"
          },
          "text": "Income range"
         },
         "zeroline": true,
         "zerolinecolor": "#F2F4F7",
         "zerolinewidth": 1
        },
        "yaxis": {
         "gridcolor": "#E2E8F0",
         "gridwidth": 1,
         "linecolor": "#E2E8F0",
         "linewidth": 1,
         "mirror": false,
         "showgrid": true,
         "showline": true,
         "tickfont": {
          "color": "#6B7280",
          "family": "Roboto Mono, monospace",
          "size": 11
         },
         "title": {
          "font": {
           "color": "#6B7280"
          },
          "text": "Number of households"
         },
         "zeroline": true,
         "zerolinecolor": "#F2F4F7",
         "zerolinewidth": 1
        }
       }
      }
     },
     "metadata": {},
     "output_type": "display_data"
    }
   ],
   "source": [
    "from policyengine.models import Simulation, Aggregate, policyengine_uk_model, policyengine_uk_latest_version\n",
    "from policyengine.utils.datasets import create_uk_dataset\n",
    "import plotly.graph_objects as go\n",
    "from policyengine.utils.charts import add_fonts, format_figure\n",
    "\n",
    "# Load the dataset\n",
    "\n",
    "uk_dataset = create_uk_dataset()\n",
    "\n",
    "# Create and run the simulation\n",
    "\n",
    "\n",
    "sim = Simulation(\n",
    "    dataset=uk_dataset,\n",
    "    model=policyengine_uk_model,\n",
    "    model_version=policyengine_uk_latest_version,\n",
    ")\n",
    "\n",
    "sim.run()\n",
    "\n",
    "# Extract aggregates for household income ranges\n",
    "\n",
    "income_ranges = [0, 20000, 40000, 60000, 80000, 100000, 150000, 200000, 300000, 500000, 1_000_000]\n",
    "aggregates = []\n",
    "for i in range(len(income_ranges) - 1):\n",
    "    aggregates.append(\n",
    "        Aggregate(\n",
    "            entity=\"household\",\n",
    "            variable_name=\"hbai_household_net_income\",\n",
    "            aggregate_function=\"count\",\n",
    "            filter_variable_name=\"hbai_household_net_income\",\n",
    "            filter_variable_geq=income_ranges[i],\n",
    "            filter_variable_leq=income_ranges[i + 1],\n",
    "            simulation=sim,\n",
    "        )\n",
    "    )\n",
    "\n",
    "aggregates = Aggregate.run(aggregates)\n",
    "\n",
    "# Create the bar chart\n",
    "\n",
    "fig = go.Figure(data=[\n",
    "    go.Bar(\n",
    "        x=[f\"£{inc:,}\" for inc in income_ranges[:-1]],\n",
    "        y=[agg.value for agg in aggregates],\n",
    "    )\n",
    "])\n",
    "\n",
    "# Apply formatting\n",
    "\n",
    "format_figure(\n",
    "    fig,\n",
    "    title=\"The distribution of household income in the UK\",\n",
    "    x_title=\"Income range\",\n",
    "    y_title=\"Number of households\",\n",
    ")"
   ]
  },
  {
   "cell_type": "markdown",
   "id": "24ba497b",
   "metadata": {},
   "source": [
    "So, in this example we introduced a few concepts:\n",
    "\n",
    "* The `Simulation` object, which represents a full run of a microsimulation model, containing all the information (simulated and input) about a set of people or groups. It takes here a few arguments: a `Dataset`, `Model` and `ModelVersion`.\n",
    "* The `Dataset` object, which represents a set of people or groups. Here we used a utility function to create this dataset for the UK, but we later will be able to create these from scratch or pull them from a database.\n",
    "* The `Model` object, which represents a particular microsimulation model (essentially defined as a function transforming a dataset to a new dataset). There are two models defined by this package, one for the UK and one for the US. Think of these objects as adapters representing the full microsimulation models. Here, we've taken the pre-defined UK model.\n",
    "* The `ModelVersion` object, which represents a particular version of a model. This is useful for tracking changes to the model over time. Here, we used the latest version of the UK model.\n"
   ]
  },
  {
   "cell_type": "code",
   "execution_count": 2,
   "id": "b40913b2",
   "metadata": {},
   "outputs": [],
   "source": [
    "from policyengine.models import ParameterValue, Parameter, Policy\n",
    "from datetime import datetime\n",
    "\n",
    "personal_allowance = Parameter(\n",
    "    id=\"gov.hmrc.income_tax.allowances.personal_allowance.amount\",\n",
    ")\n",
    "personal_allowance_value = ParameterValue(\n",
    "    parameter=personal_allowance,\n",
    "    start_date=datetime(2029, 1, 1),\n",
    "    value=20_000,\n",
    ")\n",
    "policy = Policy(\n",
    "    name=\"Increase personal allowance to £20,000\",\n",
    "    description=\"A policy to increase the personal allowance for income tax to £20,000.\",\n",
    "    parameter_values=[personal_allowance_value],\n",
    ")"
   ]
  },
  {
   "cell_type": "code",
   "execution_count": 3,
   "id": "6db422f5",
   "metadata": {},
   "outputs": [],
   "source": [
    "sim_2 = Simulation(\n",
    "    dataset=uk_dataset,\n",
    "    model=policyengine_uk_model,\n",
    "    model_version=policyengine_uk_latest_version,\n",
    "    policy=policy,\n",
    ")"
   ]
  },
  {
   "cell_type": "code",
   "execution_count": 4,
   "id": "a79978f5",
   "metadata": {},
   "outputs": [
    {
     "data": {
      "text/plain": [
       "{'person':        pip_dl_category  miscellaneous_income  pension_income  sublet_income  \\\n",
       " 0                 NONE              0.000000             0.0            0.0   \n",
       " 1                 NONE              0.000000             0.0            0.0   \n",
       " 2                 NONE              0.000000             0.0            0.0   \n",
       " 3                 NONE              0.000000             0.0            0.0   \n",
       " 4                 NONE              0.000000             0.0            0.0   \n",
       " ...                ...                   ...             ...            ...   \n",
       " 115607            NONE              0.000000             0.0            0.0   \n",
       " 115608            NONE              0.000000             0.0            0.0   \n",
       " 115609            NONE            157.425507             0.0            0.0   \n",
       " 115610            NONE              0.000000             0.0            0.0   \n",
       " 115611            NONE              0.000000             0.0            0.0   \n",
       " \n",
       "        pip_m_category  employment_income_before_lsr dla_m_category  \\\n",
       " 0                NONE                      0.000000           NONE   \n",
       " 1                NONE                      0.000000           NONE   \n",
       " 2                NONE                      0.000000           NONE   \n",
       " 3                NONE                  19690.441406           NONE   \n",
       " 4                NONE                      0.000000           NONE   \n",
       " ...               ...                           ...            ...   \n",
       " 115607           NONE                  56604.964844           NONE   \n",
       " 115608           NONE                   4390.741211           NONE   \n",
       " 115609           NONE                  11083.655273           NONE   \n",
       " 115610           NONE                   1768.163452           NONE   \n",
       " 115611           NONE                  84100.500000           NONE   \n",
       " \n",
       "         property_income  savings_interest_income  private_pension_income  ...  \\\n",
       " 0                   0.0                 0.000000                     0.0  ...   \n",
       " 1                   0.0                 0.000000                     0.0  ...   \n",
       " 2                   0.0                 0.000000                     0.0  ...   \n",
       " 3                   0.0                 0.000000                     0.0  ...   \n",
       " 4                   0.0                 0.000000                     0.0  ...   \n",
       " ...                 ...                      ...                     ...  ...   \n",
       " 115607              0.0                30.170527                     0.0  ...   \n",
       " 115608              0.0                 0.000000                     0.0  ...   \n",
       " 115609              0.0                 0.000000                     0.0  ...   \n",
       " 115610              0.0                 0.000000                     0.0  ...   \n",
       " 115611              0.0                 0.000000                     0.0  ...   \n",
       " \n",
       "         tax_free_childcare  is_child_receiving_tax_free_childcare  \\\n",
       " 0                      0.0                                  False   \n",
       " 1                      0.0                                  False   \n",
       " 2                      0.0                                  False   \n",
       " 3                      0.0                                  False   \n",
       " 4                      0.0                                  False   \n",
       " ...                    ...                                    ...   \n",
       " 115607                 0.0                                  False   \n",
       " 115608                 0.0                                  False   \n",
       " 115609                 0.0                                  False   \n",
       " 115610                 0.0                                  False   \n",
       " 115611                 0.0                                  False   \n",
       " \n",
       "        tax_free_childcare_meets_income_requirements  \\\n",
       " 0                                              True   \n",
       " 1                                             False   \n",
       " 2                                             False   \n",
       " 3                                              True   \n",
       " 4                                             False   \n",
       " ...                                             ...   \n",
       " 115607                                         True   \n",
       " 115608                                        False   \n",
       " 115609                                         True   \n",
       " 115610                                        False   \n",
       " 115611                                         True   \n",
       " \n",
       "         tax_free_childcare_child_age_eligible  \\\n",
       " 0                                       False   \n",
       " 1                                        True   \n",
       " 2                                        True   \n",
       " 3                                       False   \n",
       " 4                                       False   \n",
       " ...                                       ...   \n",
       " 115607                                  False   \n",
       " 115608                                  False   \n",
       " 115609                                  False   \n",
       " 115610                                  False   \n",
       " 115611                                  False   \n",
       " \n",
       "         tax_free_childcare_program_eligible  \\\n",
       " 0                                      True   \n",
       " 1                                     False   \n",
       " 2                                     False   \n",
       " 3                                     False   \n",
       " 4                                     False   \n",
       " ...                                     ...   \n",
       " 115607                                 True   \n",
       " 115608                                 True   \n",
       " 115609                                 True   \n",
       " 115610                                False   \n",
       " 115611                                 True   \n",
       " \n",
       "         tax_free_childcare_work_condition  personal_pension_contributions_tax  \\\n",
       " 0                                    True                                 0.0   \n",
       " 1                                    True                                 0.0   \n",
       " 2                                    True                                 0.0   \n",
       " 3                                    True                                 0.0   \n",
       " 4                                    True                                 0.0   \n",
       " ...                                   ...                                 ...   \n",
       " 115607                               True                                 0.0   \n",
       " 115608                               True                                 0.0   \n",
       " 115609                               True                                 0.0   \n",
       " 115610                               True                                 0.0   \n",
       " 115611                               True                                 0.0   \n",
       " \n",
       "         pension_contributions_relief  pension_contributions  \\\n",
       " 0                           0.000000               0.000000   \n",
       " 1                           0.000000               0.000000   \n",
       " 2                           0.000000               0.000000   \n",
       " 3                         906.949951             906.949951   \n",
       " 4                           0.000000               0.000000   \n",
       " ...                              ...                    ...   \n",
       " 115607                      0.000000               0.000000   \n",
       " 115608                      0.000000               0.000000   \n",
       " 115609                      0.000000               0.000000   \n",
       " 115610                   1768.163452            2657.468506   \n",
       " 115611                      0.000000               0.000000   \n",
       " \n",
       "         pays_scottish_income_tax  \n",
       " 0                          False  \n",
       " 1                          False  \n",
       " 2                          False  \n",
       " 3                          False  \n",
       " 4                          False  \n",
       " ...                          ...  \n",
       " 115607                     False  \n",
       " 115608                      True  \n",
       " 115609                      True  \n",
       " 115610                     False  \n",
       " 115611                     False  \n",
       " \n",
       " [115612 rows x 305 columns],\n",
       " 'benunit':        eldest_child_age  num_enhanced_disabled_children relation_type  \\\n",
       " 0                  -inf                               0        SINGLE   \n",
       " 1                   9.0                               0        COUPLE   \n",
       " 2                  -inf                               0        COUPLE   \n",
       " 3                  -inf                               0        SINGLE   \n",
       " 4                  -inf                               0        SINGLE   \n",
       " ...                 ...                             ...           ...   \n",
       " 61853              -inf                               0        SINGLE   \n",
       " 61854              -inf                               0        SINGLE   \n",
       " 61855              17.0                               0        COUPLE   \n",
       " 61856              -inf                               0        SINGLE   \n",
       " 61857              -inf                               0        SINGLE   \n",
       " \n",
       "        num_disabled_children  num_severely_disabled_adults  \\\n",
       " 0                          0                             0   \n",
       " 1                          0                             0   \n",
       " 2                          0                             0   \n",
       " 3                          0                             0   \n",
       " 4                          0                             0   \n",
       " ...                      ...                           ...   \n",
       " 61853                      0                             0   \n",
       " 61854                      0                             0   \n",
       " 61855                      0                             0   \n",
       " 61856                      0                             0   \n",
       " 61857                      0                             0   \n",
       " \n",
       "        num_enhanced_disabled_adults  severe_disability_premium  \\\n",
       " 0                                 0                        0.0   \n",
       " 1                                 0                        0.0   \n",
       " 2                                 0                        0.0   \n",
       " 3                                 0                        0.0   \n",
       " 4                                 0                        0.0   \n",
       " ...                             ...                        ...   \n",
       " 61853                             0                        0.0   \n",
       " 61854                             0                        0.0   \n",
       " 61855                             0                        0.0   \n",
       " 61856                             0                        0.0   \n",
       " 61857                             0                        0.0   \n",
       " \n",
       "        enhanced_disability_premium           family_type  num_disabled_adults  \\\n",
       " 0                              0.0                SINGLE                    0   \n",
       " 1                              0.0  COUPLE_WITH_CHILDREN                    0   \n",
       " 2                              0.0    COUPLE_NO_CHILDREN                    0   \n",
       " 3                              0.0                SINGLE                    1   \n",
       " 4                              0.0                SINGLE                    0   \n",
       " ...                            ...                   ...                  ...   \n",
       " 61853                          0.0                SINGLE                    0   \n",
       " 61854                          0.0                SINGLE                    0   \n",
       " 61855                          0.0           LONE_PARENT                    0   \n",
       " 61856                          0.0                SINGLE                    0   \n",
       " 61857                          0.0                SINGLE                    0   \n",
       " \n",
       "        ...  would_claim_care_to_learn  would_claim_universal_childcare  \\\n",
       " 0      ...                       True                             True   \n",
       " 1      ...                       True                             True   \n",
       " 2      ...                       True                             True   \n",
       " 3      ...                       True                            False   \n",
       " 4      ...                       True                             True   \n",
       " ...    ...                        ...                              ...   \n",
       " 61853  ...                       True                            False   \n",
       " 61854  ...                       True                            False   \n",
       " 61855  ...                       True                             True   \n",
       " 61856  ...                       True                             True   \n",
       " 61857  ...                       True                             True   \n",
       " \n",
       "        child_benefit child_benefit_less_tax_charge   benunit_tax  \\\n",
       " 0           0.000000                      0.000000    690.170288   \n",
       " 1        3445.210938                   3445.210938    529.012939   \n",
       " 2           0.000000                      0.000000  61145.378906   \n",
       " 3           0.000000                      0.000000      0.000000   \n",
       " 4           0.000000                      0.000000    157.495224   \n",
       " ...              ...                           ...           ...   \n",
       " 61853       0.000000                      0.000000  10544.920898   \n",
       " 61854       0.000000                      0.000000      0.000000   \n",
       " 61855       0.000000                      0.000000      0.000000   \n",
       " 61856       0.000000                      0.000000      0.000000   \n",
       " 61857       0.000000                      0.000000  21569.416016   \n",
       " \n",
       "        baseline_child_benefit_entitlement  would_claim_child_benefit  \\\n",
       " 0                                     0.0                       True   \n",
       " 1                                     0.0                       True   \n",
       " 2                                     0.0                      False   \n",
       " 3                                     0.0                      False   \n",
       " 4                                     0.0                      False   \n",
       " ...                                   ...                        ...   \n",
       " 61853                                 0.0                       True   \n",
       " 61854                                 0.0                       True   \n",
       " 61855                                 0.0                       True   \n",
       " 61856                                 0.0                       True   \n",
       " 61857                                 0.0                       True   \n",
       " \n",
       "        child_benefit_entitlement tax_free_childcare_eligible  would_claim_tfc  \n",
       " 0                       0.000000                       False            False  \n",
       " 1                    3445.210938                       False            False  \n",
       " 2                       0.000000                       False             True  \n",
       " 3                       0.000000                       False            False  \n",
       " 4                       0.000000                       False             True  \n",
       " ...                          ...                         ...              ...  \n",
       " 61853                   0.000000                       False            False  \n",
       " 61854                   0.000000                       False             True  \n",
       " 61855                   0.000000                       False            False  \n",
       " 61856                   0.000000                       False             True  \n",
       " 61857                   0.000000                       False             True  \n",
       " \n",
       " [61858 rows x 157 columns],\n",
       " 'household':        in_original_frs  spi_imputed  uc_migrated  corporate_wealth  \\\n",
       " 0                  0.0          0.0          0.0          0.000000   \n",
       " 1                  0.0          0.0          0.0      47501.683594   \n",
       " 2                  0.0          0.0          0.0     890253.187500   \n",
       " 3                  0.0          0.0          0.0      44285.046875   \n",
       " 4                  0.0          0.0          0.0      50274.457031   \n",
       " ...                ...          ...          ...               ...   \n",
       " 53503              0.0          0.0          0.0     617134.187500   \n",
       " 53504              0.0          0.0          0.0      18102.316406   \n",
       " 53505              0.0          0.0          0.0      20515.958984   \n",
       " 53506              0.0          0.0          0.0     255524.156250   \n",
       " 53507              0.0          0.0          0.0          0.000000   \n",
       " \n",
       "        non_residential_property_value  main_residence_value          rent  \\\n",
       " 0                                 0.0              0.000000      0.000000   \n",
       " 1                                 0.0         230502.828125      0.000000   \n",
       " 2                                 0.0         784433.687500      0.000000   \n",
       " 3                                 0.0              0.000000   7523.368164   \n",
       " 4                                 0.0              0.000000      0.000000   \n",
       " ...                               ...                   ...           ...   \n",
       " 53503                             0.0              0.000000      0.000000   \n",
       " 53504                             0.0         241364.218750      0.000000   \n",
       " 53505                             0.0              0.000000   9618.785156   \n",
       " 53506                             0.0         398250.968750   9485.985352   \n",
       " 53507                             0.0              0.000000  17380.150391   \n",
       " \n",
       "        owned_land council_tax_band  other_residential_property_value  ...  \\\n",
       " 0             0.0                C                               0.0  ...   \n",
       " 1             0.0                C                               0.0  ...   \n",
       " 2             0.0                D                               0.0  ...   \n",
       " 3             0.0                C                               0.0  ...   \n",
       " 4             0.0                A                               0.0  ...   \n",
       " ...           ...              ...                               ...  ...   \n",
       " 53503         0.0                F                               0.0  ...   \n",
       " 53504         0.0                E                               0.0  ...   \n",
       " 53505         0.0                B                               0.0  ...   \n",
       " 53506         0.0                D                               0.0  ...   \n",
       " 53507         0.0                C                               0.0  ...   \n",
       " \n",
       "        baseline_business_rates  corporate_sdlt  \\\n",
       " 0                     0.000000        0.000000   \n",
       " 1                   142.639557       14.069544   \n",
       " 2                  2673.280273      263.684479   \n",
       " 3                   132.980530       13.116806   \n",
       " 4                   150.965714       14.890812   \n",
       " ...                        ...             ...   \n",
       " 53503              1853.149902      182.789230   \n",
       " 53504                54.358204        5.361733   \n",
       " 53505                61.605965        6.076630   \n",
       " 53506               767.295959       75.683800   \n",
       " 53507                 0.000000        0.000000   \n",
       " \n",
       "        sdlt_on_residential_property_transactions  expected_sdlt  epg_subsidy  \\\n",
       " 0                                       0.000000       0.045000          0.0   \n",
       " 1                                    2110.056641      14.114544          0.0   \n",
       " 2                                   29221.683594   29485.412109          0.0   \n",
       " 3                                       0.000000      13.161806          0.0   \n",
       " 4                                       0.000000      14.935812          0.0   \n",
       " ...                                          ...            ...          ...   \n",
       " 53503                                   0.000000     182.834229          0.0   \n",
       " 53504                                2327.284424    2332.691162          0.0   \n",
       " 53505                                   0.000000       6.121630          0.0   \n",
       " 53506                                9912.548828      75.728798          0.0   \n",
       " 53507                                   0.000000       0.045000          0.0   \n",
       " \n",
       "        cost_of_living_support_payment  ebr_energy_bills_credit  \\\n",
       " 0                                 0.0                      0.0   \n",
       " 1                                 0.0                      0.0   \n",
       " 2                                 0.0                      0.0   \n",
       " 3                                 0.0                      0.0   \n",
       " 4                                 0.0                      0.0   \n",
       " ...                               ...                      ...   \n",
       " 53503                             0.0                      0.0   \n",
       " 53504                             0.0                      0.0   \n",
       " 53505                             0.0                      0.0   \n",
       " 53506                             0.0                      0.0   \n",
       " 53507                             0.0                      0.0   \n",
       " \n",
       "        ebr_council_tax_rebate  energy_bills_rebate  domestic_rates  \n",
       " 0                         0.0                  0.0             0.0  \n",
       " 1                         0.0                  0.0             0.0  \n",
       " 2                         0.0                  0.0             0.0  \n",
       " 3                         0.0                  0.0             0.0  \n",
       " 4                         0.0                  0.0             0.0  \n",
       " ...                       ...                  ...             ...  \n",
       " 53503                     0.0                  0.0             0.0  \n",
       " 53504                     0.0                  0.0             0.0  \n",
       " 53505                     0.0                  0.0             0.0  \n",
       " 53506                     0.0                  0.0             0.0  \n",
       " 53507                     0.0                  0.0             0.0  \n",
       " \n",
       " [53508 rows x 186 columns]}"
      ]
     },
     "execution_count": 4,
     "metadata": {},
     "output_type": "execute_result"
    }
   ],
   "source": [
    "sim_2.run()"
   ]
  },
  {
   "cell_type": "code",
   "execution_count": 6,
   "id": "950d8363",
   "metadata": {},
   "outputs": [
    {
     "data": {
      "application/vnd.plotly.v1+json": {
       "config": {
        "plotlyServerURL": "https://plot.ly"
       },
       "data": [
        {
         "marker": {
          "color": "#319795"
         },
         "name": "Baseline",
         "textfont": {
          "color": "#6B7280",
          "family": "Roboto Mono, monospace",
          "size": 11
         },
         "textposition": "outside",
         "texttemplate": "%{y:,.0f}",
         "type": "bar",
         "x": [
          "£0",
          "£20,000",
          "£40,000",
          "£60,000",
          "£80,000",
          "£100,000",
          "£150,000",
          "£200,000",
          "£300,000",
          "£500,000"
         ],
         "y": [
          6615287.18908169,
          10306953.140547385,
          7131556.623589764,
          4323144.591107131,
          1691347.2904351307,
          1320115.9262172873,
          326076.2586429423,
          187608.23132836912,
          63106.63353048405,
          41838.373842805624
         ]
        },
        {
         "marker": {
          "color": "#0EA5E9"
         },
         "name": "Reform",
         "textfont": {
          "color": "#6B7280",
          "family": "Roboto Mono, monospace",
          "size": 11
         },
         "textposition": "outside",
         "texttemplate": "%{y:,.0f}",
         "type": "bar",
         "x": [
          "£0",
          "£20,000",
          "£40,000",
          "£60,000",
          "£80,000",
          "£100,000",
          "£150,000",
          "£200,000",
          "£300,000",
          "£500,000"
         ],
         "y": [
          6159962.13365082,
          10313856.750571284,
          6885489.198412653,
          4507745.352171542,
          2003422.4053457985,
          1472352.0198287112,
          341808.24952948757,
          218180.35939976107,
          63106.63353048405,
          41838.373842805624
         ]
        }
       ],
       "layout": {
        "font": {
         "color": "#101828",
         "family": "Roboto, sans-serif",
         "size": 14
        },
        "hoverlabel": {
         "bgcolor": "white",
         "bordercolor": "#81E6D9",
         "font": {
          "family": "Roboto Mono, monospace",
          "size": 12
         }
        },
        "hovermode": "x unified",
        "paper_bgcolor": "white",
        "plot_bgcolor": "white",
        "showlegend": true,
        "template": {
         "data": {
          "bar": [
           {
            "error_x": {
             "color": "#2a3f5f"
            },
            "error_y": {
             "color": "#2a3f5f"
            },
            "marker": {
             "line": {
              "color": "#E5ECF6",
              "width": 0.5
             },
             "pattern": {
              "fillmode": "overlay",
              "size": 10,
              "solidity": 0.2
             }
            },
            "type": "bar"
           }
          ],
          "barpolar": [
           {
            "marker": {
             "line": {
              "color": "#E5ECF6",
              "width": 0.5
             },
             "pattern": {
              "fillmode": "overlay",
              "size": 10,
              "solidity": 0.2
             }
            },
            "type": "barpolar"
           }
          ],
          "carpet": [
           {
            "aaxis": {
             "endlinecolor": "#2a3f5f",
             "gridcolor": "white",
             "linecolor": "white",
             "minorgridcolor": "white",
             "startlinecolor": "#2a3f5f"
            },
            "baxis": {
             "endlinecolor": "#2a3f5f",
             "gridcolor": "white",
             "linecolor": "white",
             "minorgridcolor": "white",
             "startlinecolor": "#2a3f5f"
            },
            "type": "carpet"
           }
          ],
          "choropleth": [
           {
            "colorbar": {
             "outlinewidth": 0,
             "ticks": ""
            },
            "type": "choropleth"
           }
          ],
          "contour": [
           {
            "colorbar": {
             "outlinewidth": 0,
             "ticks": ""
            },
            "colorscale": [
             [
              0,
              "#0d0887"
             ],
             [
              0.1111111111111111,
              "#46039f"
             ],
             [
              0.2222222222222222,
              "#7201a8"
             ],
             [
              0.3333333333333333,
              "#9c179e"
             ],
             [
              0.4444444444444444,
              "#bd3786"
             ],
             [
              0.5555555555555556,
              "#d8576b"
             ],
             [
              0.6666666666666666,
              "#ed7953"
             ],
             [
              0.7777777777777778,
              "#fb9f3a"
             ],
             [
              0.8888888888888888,
              "#fdca26"
             ],
             [
              1,
              "#f0f921"
             ]
            ],
            "type": "contour"
           }
          ],
          "contourcarpet": [
           {
            "colorbar": {
             "outlinewidth": 0,
             "ticks": ""
            },
            "type": "contourcarpet"
           }
          ],
          "heatmap": [
           {
            "colorbar": {
             "outlinewidth": 0,
             "ticks": ""
            },
            "colorscale": [
             [
              0,
              "#0d0887"
             ],
             [
              0.1111111111111111,
              "#46039f"
             ],
             [
              0.2222222222222222,
              "#7201a8"
             ],
             [
              0.3333333333333333,
              "#9c179e"
             ],
             [
              0.4444444444444444,
              "#bd3786"
             ],
             [
              0.5555555555555556,
              "#d8576b"
             ],
             [
              0.6666666666666666,
              "#ed7953"
             ],
             [
              0.7777777777777778,
              "#fb9f3a"
             ],
             [
              0.8888888888888888,
              "#fdca26"
             ],
             [
              1,
              "#f0f921"
             ]
            ],
            "type": "heatmap"
           }
          ],
          "heatmapgl": [
           {
            "colorbar": {
             "outlinewidth": 0,
             "ticks": ""
            },
            "colorscale": [
             [
              0,
              "#0d0887"
             ],
             [
              0.1111111111111111,
              "#46039f"
             ],
             [
              0.2222222222222222,
              "#7201a8"
             ],
             [
              0.3333333333333333,
              "#9c179e"
             ],
             [
              0.4444444444444444,
              "#bd3786"
             ],
             [
              0.5555555555555556,
              "#d8576b"
             ],
             [
              0.6666666666666666,
              "#ed7953"
             ],
             [
              0.7777777777777778,
              "#fb9f3a"
             ],
             [
              0.8888888888888888,
              "#fdca26"
             ],
             [
              1,
              "#f0f921"
             ]
            ],
            "type": "heatmapgl"
           }
          ],
          "histogram": [
           {
            "marker": {
             "pattern": {
              "fillmode": "overlay",
              "size": 10,
              "solidity": 0.2
             }
            },
            "type": "histogram"
           }
          ],
          "histogram2d": [
           {
            "colorbar": {
             "outlinewidth": 0,
             "ticks": ""
            },
            "colorscale": [
             [
              0,
              "#0d0887"
             ],
             [
              0.1111111111111111,
              "#46039f"
             ],
             [
              0.2222222222222222,
              "#7201a8"
             ],
             [
              0.3333333333333333,
              "#9c179e"
             ],
             [
              0.4444444444444444,
              "#bd3786"
             ],
             [
              0.5555555555555556,
              "#d8576b"
             ],
             [
              0.6666666666666666,
              "#ed7953"
             ],
             [
              0.7777777777777778,
              "#fb9f3a"
             ],
             [
              0.8888888888888888,
              "#fdca26"
             ],
             [
              1,
              "#f0f921"
             ]
            ],
            "type": "histogram2d"
           }
          ],
          "histogram2dcontour": [
           {
            "colorbar": {
             "outlinewidth": 0,
             "ticks": ""
            },
            "colorscale": [
             [
              0,
              "#0d0887"
             ],
             [
              0.1111111111111111,
              "#46039f"
             ],
             [
              0.2222222222222222,
              "#7201a8"
             ],
             [
              0.3333333333333333,
              "#9c179e"
             ],
             [
              0.4444444444444444,
              "#bd3786"
             ],
             [
              0.5555555555555556,
              "#d8576b"
             ],
             [
              0.6666666666666666,
              "#ed7953"
             ],
             [
              0.7777777777777778,
              "#fb9f3a"
             ],
             [
              0.8888888888888888,
              "#fdca26"
             ],
             [
              1,
              "#f0f921"
             ]
            ],
            "type": "histogram2dcontour"
           }
          ],
          "mesh3d": [
           {
            "colorbar": {
             "outlinewidth": 0,
             "ticks": ""
            },
            "type": "mesh3d"
           }
          ],
          "parcoords": [
           {
            "line": {
             "colorbar": {
              "outlinewidth": 0,
              "ticks": ""
             }
            },
            "type": "parcoords"
           }
          ],
          "pie": [
           {
            "automargin": true,
            "type": "pie"
           }
          ],
          "scatter": [
           {
            "fillpattern": {
             "fillmode": "overlay",
             "size": 10,
             "solidity": 0.2
            },
            "type": "scatter"
           }
          ],
          "scatter3d": [
           {
            "line": {
             "colorbar": {
              "outlinewidth": 0,
              "ticks": ""
             }
            },
            "marker": {
             "colorbar": {
              "outlinewidth": 0,
              "ticks": ""
             }
            },
            "type": "scatter3d"
           }
          ],
          "scattercarpet": [
           {
            "marker": {
             "colorbar": {
              "outlinewidth": 0,
              "ticks": ""
             }
            },
            "type": "scattercarpet"
           }
          ],
          "scattergeo": [
           {
            "marker": {
             "colorbar": {
              "outlinewidth": 0,
              "ticks": ""
             }
            },
            "type": "scattergeo"
           }
          ],
          "scattergl": [
           {
            "marker": {
             "colorbar": {
              "outlinewidth": 0,
              "ticks": ""
             }
            },
            "type": "scattergl"
           }
          ],
          "scattermapbox": [
           {
            "marker": {
             "colorbar": {
              "outlinewidth": 0,
              "ticks": ""
             }
            },
            "type": "scattermapbox"
           }
          ],
          "scatterpolar": [
           {
            "marker": {
             "colorbar": {
              "outlinewidth": 0,
              "ticks": ""
             }
            },
            "type": "scatterpolar"
           }
          ],
          "scatterpolargl": [
           {
            "marker": {
             "colorbar": {
              "outlinewidth": 0,
              "ticks": ""
             }
            },
            "type": "scatterpolargl"
           }
          ],
          "scatterternary": [
           {
            "marker": {
             "colorbar": {
              "outlinewidth": 0,
              "ticks": ""
             }
            },
            "type": "scatterternary"
           }
          ],
          "surface": [
           {
            "colorbar": {
             "outlinewidth": 0,
             "ticks": ""
            },
            "colorscale": [
             [
              0,
              "#0d0887"
             ],
             [
              0.1111111111111111,
              "#46039f"
             ],
             [
              0.2222222222222222,
              "#7201a8"
             ],
             [
              0.3333333333333333,
              "#9c179e"
             ],
             [
              0.4444444444444444,
              "#bd3786"
             ],
             [
              0.5555555555555556,
              "#d8576b"
             ],
             [
              0.6666666666666666,
              "#ed7953"
             ],
             [
              0.7777777777777778,
              "#fb9f3a"
             ],
             [
              0.8888888888888888,
              "#fdca26"
             ],
             [
              1,
              "#f0f921"
             ]
            ],
            "type": "surface"
           }
          ],
          "table": [
           {
            "cells": {
             "fill": {
              "color": "#EBF0F8"
             },
             "line": {
              "color": "white"
             }
            },
            "header": {
             "fill": {
              "color": "#C8D4E3"
             },
             "line": {
              "color": "white"
             }
            },
            "type": "table"
           }
          ]
         },
         "layout": {
          "annotationdefaults": {
           "arrowcolor": "#2a3f5f",
           "arrowhead": 0,
           "arrowwidth": 1
          },
          "autotypenumbers": "strict",
          "coloraxis": {
           "colorbar": {
            "outlinewidth": 0,
            "ticks": ""
           }
          },
          "colorscale": {
           "diverging": [
            [
             0,
             "#8e0152"
            ],
            [
             0.1,
             "#c51b7d"
            ],
            [
             0.2,
             "#de77ae"
            ],
            [
             0.3,
             "#f1b6da"
            ],
            [
             0.4,
             "#fde0ef"
            ],
            [
             0.5,
             "#f7f7f7"
            ],
            [
             0.6,
             "#e6f5d0"
            ],
            [
             0.7,
             "#b8e186"
            ],
            [
             0.8,
             "#7fbc41"
            ],
            [
             0.9,
             "#4d9221"
            ],
            [
             1,
             "#276419"
            ]
           ],
           "sequential": [
            [
             0,
             "#0d0887"
            ],
            [
             0.1111111111111111,
             "#46039f"
            ],
            [
             0.2222222222222222,
             "#7201a8"
            ],
            [
             0.3333333333333333,
             "#9c179e"
            ],
            [
             0.4444444444444444,
             "#bd3786"
            ],
            [
             0.5555555555555556,
             "#d8576b"
            ],
            [
             0.6666666666666666,
             "#ed7953"
            ],
            [
             0.7777777777777778,
             "#fb9f3a"
            ],
            [
             0.8888888888888888,
             "#fdca26"
            ],
            [
             1,
             "#f0f921"
            ]
           ],
           "sequentialminus": [
            [
             0,
             "#0d0887"
            ],
            [
             0.1111111111111111,
             "#46039f"
            ],
            [
             0.2222222222222222,
             "#7201a8"
            ],
            [
             0.3333333333333333,
             "#9c179e"
            ],
            [
             0.4444444444444444,
             "#bd3786"
            ],
            [
             0.5555555555555556,
             "#d8576b"
            ],
            [
             0.6666666666666666,
             "#ed7953"
            ],
            [
             0.7777777777777778,
             "#fb9f3a"
            ],
            [
             0.8888888888888888,
             "#fdca26"
            ],
            [
             1,
             "#f0f921"
            ]
           ]
          },
          "colorway": [
           "#636efa",
           "#EF553B",
           "#00cc96",
           "#ab63fa",
           "#FFA15A",
           "#19d3f3",
           "#FF6692",
           "#B6E880",
           "#FF97FF",
           "#FECB52"
          ],
          "font": {
           "color": "#2a3f5f"
          },
          "geo": {
           "bgcolor": "white",
           "lakecolor": "white",
           "landcolor": "#E5ECF6",
           "showlakes": true,
           "showland": true,
           "subunitcolor": "white"
          },
          "hoverlabel": {
           "align": "left"
          },
          "hovermode": "closest",
          "mapbox": {
           "style": "light"
          },
          "paper_bgcolor": "white",
          "plot_bgcolor": "#E5ECF6",
          "polar": {
           "angularaxis": {
            "gridcolor": "white",
            "linecolor": "white",
            "ticks": ""
           },
           "bgcolor": "#E5ECF6",
           "radialaxis": {
            "gridcolor": "white",
            "linecolor": "white",
            "ticks": ""
           }
          },
          "scene": {
           "xaxis": {
            "backgroundcolor": "#E5ECF6",
            "gridcolor": "white",
            "gridwidth": 2,
            "linecolor": "white",
            "showbackground": true,
            "ticks": "",
            "zerolinecolor": "white"
           },
           "yaxis": {
            "backgroundcolor": "#E5ECF6",
            "gridcolor": "white",
            "gridwidth": 2,
            "linecolor": "white",
            "showbackground": true,
            "ticks": "",
            "zerolinecolor": "white"
           },
           "zaxis": {
            "backgroundcolor": "#E5ECF6",
            "gridcolor": "white",
            "gridwidth": 2,
            "linecolor": "white",
            "showbackground": true,
            "ticks": "",
            "zerolinecolor": "white"
           }
          },
          "shapedefaults": {
           "line": {
            "color": "#2a3f5f"
           }
          },
          "ternary": {
           "aaxis": {
            "gridcolor": "white",
            "linecolor": "white",
            "ticks": ""
           },
           "baxis": {
            "gridcolor": "white",
            "linecolor": "white",
            "ticks": ""
           },
           "bgcolor": "#E5ECF6",
           "caxis": {
            "gridcolor": "white",
            "linecolor": "white",
            "ticks": ""
           }
          },
          "title": {
           "x": 0.05
          },
          "xaxis": {
           "automargin": true,
           "gridcolor": "white",
           "linecolor": "white",
           "ticks": "",
           "title": {
            "standoff": 15
           },
           "zerolinecolor": "white",
           "zerolinewidth": 2
          },
          "yaxis": {
           "automargin": true,
           "gridcolor": "white",
           "linecolor": "white",
           "ticks": "",
           "title": {
            "standoff": 15
           },
           "zerolinecolor": "white",
           "zerolinewidth": 2
          }
         }
        },
        "title": {
         "font": {
          "color": "#101828",
          "family": "Roboto, sans-serif",
          "size": 20,
          "weight": 500
         },
         "text": "The distribution of household income in the UK"
        },
        "xaxis": {
         "gridcolor": "#E2E8F0",
         "gridwidth": 1,
         "linecolor": "#E2E8F0",
         "linewidth": 1,
         "mirror": false,
         "showgrid": true,
         "showline": true,
         "tickfont": {
          "color": "#6B7280",
          "family": "Roboto Mono, monospace",
          "size": 11
         },
         "title": {
          "font": {
           "color": "#6B7280"
          },
          "text": "Income range"
         },
         "zeroline": true,
         "zerolinecolor": "#F2F4F7",
         "zerolinewidth": 1
        },
        "yaxis": {
         "gridcolor": "#E2E8F0",
         "gridwidth": 1,
         "linecolor": "#E2E8F0",
         "linewidth": 1,
         "mirror": false,
         "showgrid": true,
         "showline": true,
         "tickfont": {
          "color": "#6B7280",
          "family": "Roboto Mono, monospace",
          "size": 11
         },
         "title": {
          "font": {
           "color": "#6B7280"
          },
          "text": "Number of households"
         },
         "zeroline": true,
         "zerolinecolor": "#F2F4F7",
         "zerolinewidth": 1
        }
       }
      }
     },
     "metadata": {},
     "output_type": "display_data"
    }
   ],
   "source": [
    "# Extract new aggregates for household income ranges\n",
    "\n",
    "income_ranges = [0, 20000, 40000, 60000, 80000, 100000, 150000, 200000, 300000, 500000, 1_000_000]\n",
    "aggregates_2 = []\n",
    "for i in range(len(income_ranges) - 1):\n",
    "    aggregates_2.append(\n",
    "        Aggregate(\n",
    "            entity=\"household\",\n",
    "            variable_name=\"hbai_household_net_income\",\n",
    "            aggregate_function=\"count\",\n",
    "            filter_variable_name=\"hbai_household_net_income\",\n",
    "            filter_variable_geq=income_ranges[i],\n",
    "            filter_variable_leq=income_ranges[i + 1],\n",
    "            simulation=sim_2,\n",
    "        )\n",
    "    )\n",
    "\n",
    "aggregates_2 = Aggregate.run(aggregates_2)\n",
    "\n",
    "# Create the comparative bar chart\n",
    "fig = go.Figure(data=[\n",
    "    go.Bar(\n",
    "        name=\"Baseline\",\n",
    "        x=[f\"£{inc:,}\" for inc in income_ranges[:-1]],\n",
    "        y=[agg.value for agg in aggregates],\n",
    "    ),\n",
    "    go.Bar(\n",
    "        name=\"Reform\",\n",
    "        x=[f\"£{inc:,}\" for inc in income_ranges[:-1]],\n",
    "        y=[agg.value for agg in aggregates_2],\n",
    "    ),\n",
    "])\n",
    "\n",
    "# Apply formatting\n",
    "fig = format_figure(\n",
    "    fig,\n",
    "    title=\"The distribution of household income in the UK\",\n",
    "    x_title=\"Income range\",\n",
    "    y_title=\"Number of households\",\n",
    ")\n",
    "\n",
    "add_fonts()\n",
    "\n",
    "fig"
   ]
  }
 ],
 "metadata": {
  "kernelspec": {
   "display_name": "policyengine",
   "language": "python",
   "name": "python3"
  },
  "language_info": {
   "codemirror_mode": {
    "name": "ipython",
    "version": 3
   },
   "file_extension": ".py",
   "mimetype": "text/x-python",
   "name": "python",
   "nbconvert_exporter": "python",
   "pygments_lexer": "ipython3",
   "version": "3.13.5"
  }
 },
 "nbformat": 4,
 "nbformat_minor": 5
}
