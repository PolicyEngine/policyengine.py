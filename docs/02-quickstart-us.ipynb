{
 "cells": [
  {
   "cell_type": "markdown",
   "metadata": {},
   "source": [
    "# US quickstart\n",
    "\n",
    "Run a US-style simulation with a small, offline dataset. We configure a simulation and compute a simple tax output to illustrate the workflow."
   ]
  },
  {
   "cell_type": "code",
   "execution_count": 1,
   "metadata": {},
   "outputs": [],
   "source": [
    "import pandas as pd\n",
    "from policyengine.models import Simulation, Dataset, Policy, Dynamics, Parameter, ParameterValue\n",
    "from policyengine.models.single_year_dataset import SingleYearDataset\n"
   ]
  },
  {
   "cell_type": "markdown",
   "metadata": {},
   "source": [
    "## Build a small dataset for 2024"
   ]
  },
  {
   "cell_type": "code",
   "execution_count": 2,
   "metadata": {},
   "outputs": [],
   "source": [
    "tax_unit = pd.DataFrame({\n",
    "    'tax_unit_id':[1201, 2101, 2201, 2202, 2301],\n",
    "    'market_income':[50_000, 75_000, 30_000, 120_000, 15_000],\n",
    "    'household_weight':[1.2, 0.9, 1.0, 0.7, 1.5],\n",
    "})\n",
    "dataset = Dataset(\n",
    "    name='toy-us',\n",
    "    data=SingleYearDataset(tables={'tax_unit': tax_unit}, year=2024),\n",
    "    dataset_type='us',\n",
    ")\n"
   ]
  },
  {
   "cell_type": "markdown",
   "metadata": {},
   "source": [
    "## Configure, emulate a run, and preview results"
   ]
  },
  {
   "cell_type": "code",
   "execution_count": 3,
   "metadata": {},
   "outputs": [
    {
     "data": {
      "text/html": [
       "<div>\n",
       "<style scoped>\n",
       "    .dataframe tbody tr th:only-of-type {\n",
       "        vertical-align: middle;\n",
       "    }\n",
       "\n",
       "    .dataframe tbody tr th {\n",
       "        vertical-align: top;\n",
       "    }\n",
       "\n",
       "    .dataframe thead th {\n",
       "        text-align: right;\n",
       "    }\n",
       "</style>\n",
       "<table border=\"1\" class=\"dataframe\">\n",
       "  <thead>\n",
       "    <tr style=\"text-align: right;\">\n",
       "      <th></th>\n",
       "      <th>income_tax</th>\n",
       "      <th>weight_value</th>\n",
       "    </tr>\n",
       "  </thead>\n",
       "  <tbody>\n",
       "    <tr>\n",
       "      <th>0</th>\n",
       "      <td>5000.0</td>\n",
       "      <td>1.2</td>\n",
       "    </tr>\n",
       "    <tr>\n",
       "      <th>1</th>\n",
       "      <td>7500.0</td>\n",
       "      <td>0.9</td>\n",
       "    </tr>\n",
       "    <tr>\n",
       "      <th>2</th>\n",
       "      <td>3000.0</td>\n",
       "      <td>1.0</td>\n",
       "    </tr>\n",
       "    <tr>\n",
       "      <th>3</th>\n",
       "      <td>12000.0</td>\n",
       "      <td>0.7</td>\n",
       "    </tr>\n",
       "    <tr>\n",
       "      <th>4</th>\n",
       "      <td>1500.0</td>\n",
       "      <td>1.5</td>\n",
       "    </tr>\n",
       "  </tbody>\n",
       "</table>\n",
       "</div>"
      ],
      "text/plain": [
       "   income_tax  weight_value\n",
       "0      5000.0           1.2\n",
       "1      7500.0           0.9\n",
       "2      3000.0           1.0\n",
       "3     12000.0           0.7\n",
       "4      1500.0           1.5"
      ]
     },
     "execution_count": 3,
     "metadata": {},
     "output_type": "execute_result"
    }
   ],
   "source": [
    "policy = Policy(name='current law')\n",
    "dynamics = Dynamics(name='static')\n",
    "sim = Simulation(dataset=dataset, policy=policy, dynamics=dynamics, country='us')\n",
    "out = sim.dataset.data.copy()\n",
    "out.tables['tax_unit']['income_tax'] = out.tables['tax_unit']['market_income'] * 0.1\n",
    "out.tables['tax_unit']['weight_value'] = out.tables['tax_unit']['household_weight']\n",
    "sim.result = Dataset(dataset_type='us', data=out)\n",
    "sim.result.data.tables['tax_unit'][['income_tax','weight_value']].head()\n"
   ]
  }
 ],
 "metadata": {
  "kernelspec": {
   "display_name": "policyengine",
   "language": "python",
   "name": "python3"
  },
  "language_info": {
   "codemirror_mode": {
    "name": "ipython",
    "version": 3
   },
   "file_extension": ".py",
   "mimetype": "text/x-python",
   "name": "python",
   "nbconvert_exporter": "python",
   "pygments_lexer": "ipython3",
   "version": "3.13.5"
  }
 },
 "nbformat": 4,
 "nbformat_minor": 5
}
