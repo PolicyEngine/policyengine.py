{
 "cells": [
  {
   "cell_type": "markdown",
   "id": "f2e7072e",
   "metadata": {},
   "source": [
    "# Models\n",
    "\n",
    "Here, we'll walk through the different *models* at play here (types of object). After reading this, you should be able to "
   ]
  },
  {
   "cell_type": "code",
   "execution_count": null,
   "id": "e4079ada",
   "metadata": {},
   "outputs": [],
   "source": []
  }
 ],
 "metadata": {
  "language_info": {
   "name": "python"
  }
 },
 "nbformat": 4,
 "nbformat_minor": 5
}
