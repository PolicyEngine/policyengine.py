{
 "cells": [
  {
   "cell_type": "markdown",
   "metadata": {},
   "source": [
    "# Architecture overview\n",
    "\n",
    "PolicyEngine.py provides a unified interface for running tax-benefit policy simulations across countries. The architecture centres on five core models that work together to define, run, and analyse policy scenarios."
   ]
  },
  {
   "cell_type": "markdown",
   "metadata": {},
   "source": [
    "## Core model relationships\n",
    "\n",
    "The system follows this flow:\n",
    "\n",
    "1. **Dataset** wraps entity tables (people, households, etc.) for one year\n",
    "2. **Policy** and **Dynamics** define parameter changes and modifications\n",
    "3. **Simulation** combines these and runs country-specific calculations\n",
    "4. **ReportElement** subclasses analyse results and return structured tables\n",
    "5. **Report** collections group multiple analyses together\n",
    "\n",
    "Each model uses Pydantic for validation and type safety."
   ]
  },
  {
   "cell_type": "code",
   "execution_count": 1,
   "metadata": {},
   "outputs": [
    {
     "name": "stdout",
     "output_type": "stream",
     "text": [
      "Core models imported successfully\n"
     ]
    }
   ],
   "source": [
    "# Import the models to show their structure\n",
    "from policyengine.models import (\n",
    "    Dataset,\n",
    "    Policy,\n",
    "    Dynamics,\n",
    "    Simulation,\n",
    "    Parameter,\n",
    "    ParameterValue,\n",
    "    ReportElement,\n",
    "    Report,\n",
    ")\n",
    "from policyengine.models.enums import DatasetType, OperationStatus\n",
    "from datetime import datetime\n",
    "\n",
    "print(\"Core models imported successfully\")"
   ]
  },
  {
   "cell_type": "markdown",
   "metadata": {},
   "source": [
    "## Dataset model\n",
    "\n",
    "The `Dataset` model wraps a `SingleYearDataset` containing entity tables for one fiscal year. Each table represents different units of analysis (persons, households, benefit units, tax units, etc.) with proper foreign key relationships."
   ]
  },
  {
   "cell_type": "code",
   "execution_count": 2,
   "metadata": {},
   "outputs": [
    {
     "name": "stdout",
     "output_type": "stream",
     "text": [
      "Dataset fields:\n",
      "  name: str | None\n",
      "  source_dataset: typing.Optional[policyengine.models.dataset.Dataset]\n",
      "  version: str | None\n",
      "  data: typing.Any | None\n",
      "  dataset_type: <enum 'DatasetType'>\n"
     ]
    }
   ],
   "source": [
    "# Show Dataset structure\n",
    "print(\"Dataset fields:\")\n",
    "for field_name, field_info in Dataset.model_fields.items():\n",
    "    print(f\"  {field_name}: {field_info.annotation}\")"
   ]
  },
  {
   "cell_type": "markdown",
   "metadata": {},
   "source": [
    "Datasets come in two main types:\n",
    "\n",
    "- **National datasets**: Full population microdata (EFRS for UK, ECPS for US)\n",
    "- **Synthetic datasets**: Small, representative samples for testing and examples\n",
    "\n",
    "The `SingleYearDataset` handles serialisation for efficient storage and provides table-level operations like copying."
   ]
  },
  {
   "cell_type": "markdown",
   "metadata": {},
   "source": [
    "## Policy and parameter system\n",
    "\n",
    "Policy changes work through a two-level system:\n",
    "\n",
    "1. **Parameter** defines a specific policy lever (e.g., personal allowance rate)\n",
    "2. **ParameterValue** sets that parameter's value for a time period\n",
    "3. **Policy** collects parameter values and optional simulation modifiers\n",
    "\n",
    "This design supports both simple parameter changes and complex policy reforms."
   ]
  },
  {
   "cell_type": "code",
   "execution_count": 3,
   "metadata": {},
   "outputs": [
    {
     "name": "stdout",
     "output_type": "stream",
     "text": [
      "Created policy: Increase personal allowance\n",
      "Parameter values: 1\n"
     ]
    }
   ],
   "source": [
    "# Example parameter definition\n",
    "pa_param = Parameter(\n",
    "    name=\"gov.hmrc.income_tax.allowances.personal_allowance.amount\",\n",
    "    data_type=float,\n",
    "    label=\"Personal allowance\",\n",
    "    description=\"Annual income tax personal allowance\",\n",
    "    unit=\"GBP\",\n",
    "    country=\"uk\",\n",
    ")\n",
    "\n",
    "# Parameter value for specific time period\n",
    "pa_increase = ParameterValue(\n",
    "    parameter=pa_param,\n",
    "    model_version=\"1.0.0\",\n",
    "    start_date=datetime(2025, 4, 6),\n",
    "    end_date=datetime(2026, 4, 5),\n",
    "    value=15000.0,\n",
    "    country=\"uk\",\n",
    ")\n",
    "\n",
    "policy = Policy(\n",
    "    name=\"Increase personal allowance\",\n",
    "    description=\"Increase personal allowance to £15,000\",\n",
    "    parameter_values=[pa_increase],\n",
    "    country=\"uk\",\n",
    ")\n",
    "\n",
    "print(f\"Created policy: {policy.name}\")\n",
    "print(f\"Parameter values: {len(policy.parameter_values)}\")"
   ]
  },
  {
   "cell_type": "markdown",
   "metadata": {},
   "source": [
    "## Dynamics and time-varying changes\n",
    "\n",
    "The `Dynamics` model handles changes that evolve over time - things like benefit uprating, tax threshold adjustments, or economic assumptions. Like policies, dynamics can include both parameter changes and simulation modifiers."
   ]
  },
  {
   "cell_type": "code",
   "execution_count": 4,
   "metadata": {},
   "outputs": [
    {
     "name": "stdout",
     "output_type": "stream",
     "text": [
      "Created dynamics: Static baseline\n"
     ]
    }
   ],
   "source": [
    "# Example dynamics setup\n",
    "dynamics = Dynamics(\n",
    "    name=\"Static baseline\",\n",
    "    description=\"No benefit uprating or economic growth\",\n",
    "    country=\"uk\",\n",
    ")\n",
    "\n",
    "print(f\"Created dynamics: {dynamics.name}\")"
   ]
  },
  {
   "cell_type": "markdown",
   "metadata": {},
   "source": [
    "## Simulation execution\n",
    "\n",
    "The `Simulation` model ties everything together and provides the `run()` method that delegates to country-specific implementations. Each simulation tracks its status and timing."
   ]
  },
  {
   "cell_type": "code",
   "execution_count": 5,
   "metadata": {},
   "outputs": [
    {
     "name": "stdout",
     "output_type": "stream",
     "text": [
      "Simulation fields:\n",
      "  dataset: <class 'policyengine.models.dataset.Dataset'>\n",
      "  policy: <class 'policyengine.models.policy.Policy'>\n",
      "  dynamics: <class 'policyengine.models.dynamics.Dynamics'>\n",
      "  result: typing.Any | None\n",
      "  model_version: str | None\n",
      "  country: <class 'str'>\n",
      "  status: <enum 'OperationStatus'>\n",
      "  created_at: <class 'datetime.datetime'>\n",
      "  completed_at: datetime.datetime | None\n",
      "\n",
      "Operation status options:\n",
      "  pending\n",
      "  running\n",
      "  completed\n",
      "  failed\n"
     ]
    }
   ],
   "source": [
    "# Show Simulation structure\n",
    "print(\"Simulation fields:\")\n",
    "for field_name, field_info in Simulation.model_fields.items():\n",
    "    print(f\"  {field_name}: {field_info.annotation}\")\n",
    "\n",
    "# Show operation status options\n",
    "print(\"\\nOperation status options:\")\n",
    "for status in OperationStatus:\n",
    "    print(f\"  {status.value}\")"
   ]
  },
  {
   "cell_type": "markdown",
   "metadata": {},
   "source": [
    "## Country-specific implementation\n",
    "\n",
    "Each country implements its own simulation runner that:\n",
    "\n",
    "1. Converts the generic dataset to country-specific format\n",
    "2. Applies policy and dynamics parameter changes\n",
    "3. Runs calculations using the country's PolicyEngine implementation\n",
    "4. Stores results back in the generic format\n",
    "\n",
    "For the UK, this uses `policyengine_uk` with entity tables (person, benunit, household).\n",
    "For the US, this uses `policyengine_us` with different entities (person, family, tax_unit, marital_unit, spm_unit, household)."
   ]
  },
  {
   "cell_type": "markdown",
   "metadata": {},
   "source": [
    "## Report and analysis system\n",
    "\n",
    "The reporting system provides a structured way to analyse simulation results:\n",
    "\n",
    "- **ReportElement**: Base class for individual analyses that return DataFrames\n",
    "- **Report**: Collections of related report elements\n",
    "- **Built-in elements**: Like `AggregateChangeReportElement` for comparing scenarios\n",
    "\n",
    "All analyses focus on returning structured tables that are easy to store, compare, and visualise."
   ]
  },
  {
   "cell_type": "code",
   "execution_count": 6,
   "metadata": {},
   "outputs": [
    {
     "name": "stdout",
     "output_type": "stream",
     "text": [
      "ReportElement fields:\n",
      "  name: str | None\n",
      "  description: str | None\n",
      "  report: typing.Optional[ForwardRef('Report')]\n",
      "  status: <enum 'OperationStatus'>\n",
      "  country: str | None\n",
      "\n",
      "Report fields:\n",
      "  name: <class 'str'>\n",
      "  description: str | None\n",
      "  elements: list[policyengine.models.reports.ReportElement]\n",
      "  country: str | None\n"
     ]
    }
   ],
   "source": [
    "# Show ReportElement structure\n",
    "print(\"ReportElement fields:\")\n",
    "for field_name, field_info in ReportElement.model_fields.items():\n",
    "    print(f\"  {field_name}: {field_info.annotation}\")\n",
    "\n",
    "print(\"\\nReport fields:\")\n",
    "for field_name, field_info in Report.model_fields.items():\n",
    "    print(f\"  {field_name}: {field_info.annotation}\")"
   ]
  },
  {
   "cell_type": "markdown",
   "metadata": {},
   "source": [
    "## Key design principles\n",
    "\n",
    "The architecture follows several important principles:\n",
    "\n",
    "1. **Country agnostic**: Core models work across different tax-benefit systems\n",
    "2. **Table-first analysis**: All outputs are structured DataFrames for easy storage\n",
    "3. **Composable**: Policies, dynamics, and reports can be mixed and matched\n",
    "4. **Type-safe**: Pydantic models provide validation and IDE support\n",
    "5. **Extensible**: Custom report elements and simulation modifiers support complex analyses\n",
    "\n",
    "This design makes it straightforward to run comparable policy analyses across countries while maintaining the flexibility to handle country-specific requirements."
   ]
  }
 ],
 "metadata": {
  "kernelspec": {
   "display_name": "policyengine",
   "language": "python",
   "name": "python3"
  },
  "language_info": {
   "codemirror_mode": {
    "name": "ipython",
    "version": 3
   },
   "file_extension": ".py",
   "mimetype": "text/x-python",
   "name": "python",
   "nbconvert_exporter": "python",
   "pygments_lexer": "ipython3",
   "version": "3.13.5"
  }
 },
 "nbformat": 4,
 "nbformat_minor": 4
}
