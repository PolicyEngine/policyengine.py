{
 "cells": [
  {
   "cell_type": "markdown",
   "id": "a87ca58a",
   "metadata": {},
   "source": [
    "# UK quickstart\n",
    "\n",
    "Run a UK-style simulation with a tiny, offline dataset. We create a dataset, define a parameter change, and compute simple fiscal outputs as a placeholder for an engine run."
   ]
  },
  {
   "cell_type": "code",
   "execution_count": 1,
   "id": "3bab0f62",
   "metadata": {},
   "outputs": [],
   "source": [
    "from datetime import datetime\n",
    "import pandas as pd\n",
    "from policyengine.models import Simulation, Dataset, Policy, Dynamics, Parameter, ParameterValue\n",
    "from policyengine.models.single_year_dataset import SingleYearDataset\n"
   ]
  },
  {
   "cell_type": "markdown",
   "id": "89b6dede",
   "metadata": {},
   "source": [
    "## Build a small dataset for one year"
   ]
  },
  {
   "cell_type": "code",
   "execution_count": 2,
   "id": "a3b00c17",
   "metadata": {},
   "outputs": [],
   "source": [
    "# Minimal entity tables\n",
    "person = pd.DataFrame({\n",
    "    'person_id':[1,2,3,4,5],\n",
    "    'person_benunit_id':[10,10,20,20,30],\n",
    "    'person_household_id':[100,100,200,200,300],\n",
    "})\n",
    "benunit = pd.DataFrame({'benunit_id':[10,20,30]})\n",
    "household = pd.DataFrame({\n",
    "    'household_id':[100,200,300],\n",
    "    'market_income':[40_000, 60_000, 20_000],\n",
    "    'household_weight':[1.0, 0.8, 1.2],\n",
    "})\n",
    "year = 2029\n",
    "dataset = Dataset(\n",
    "    name='toy-uk',\n",
    "    data=SingleYearDataset(tables={'person':person,'benunit':benunit,'household':household}, year=year),\n",
    "    dataset_type='uk',\n",
    ")\n"
   ]
  },
  {
   "cell_type": "markdown",
   "id": "399d381c",
   "metadata": {},
   "source": [
    "## Define a simple reform"
   ]
  },
  {
   "cell_type": "code",
   "execution_count": 3,
   "id": "2724c271",
   "metadata": {},
   "outputs": [],
   "source": [
    "pa_param = Parameter(name='gov.hmrc.income_tax.allowances.personal_allowance.amount', data_type=float)\n",
    "repeal_pa = ParameterValue(parameter=pa_param, model_version='1.0.0', start_date=datetime(2026,1,1), value=0.0)\n",
    "policy = Policy(name='repeal personal allowance', parameter_values=[repeal_pa])\n",
    "dynamics = Dynamics(name='static')\n"
   ]
  },
  {
   "cell_type": "markdown",
   "id": "3e291f7f",
   "metadata": {},
   "source": [
    "## Emulate a run and preview results\n",
    "\n",
    "We set fiscal outputs directly to keep this offline. In a full run, these would come from the country engine."
   ]
  },
  {
   "cell_type": "code",
   "execution_count": 4,
   "id": "015bd468",
   "metadata": {},
   "outputs": [
    {
     "data": {
      "text/html": [
       "<div>\n",
       "<style scoped>\n",
       "    .dataframe tbody tr th:only-of-type {\n",
       "        vertical-align: middle;\n",
       "    }\n",
       "\n",
       "    .dataframe tbody tr th {\n",
       "        vertical-align: top;\n",
       "    }\n",
       "\n",
       "    .dataframe thead th {\n",
       "        text-align: right;\n",
       "    }\n",
       "</style>\n",
       "<table border=\"1\" class=\"dataframe\">\n",
       "  <thead>\n",
       "    <tr style=\"text-align: right;\">\n",
       "      <th></th>\n",
       "      <th>gov_tax</th>\n",
       "      <th>gov_spending</th>\n",
       "      <th>gov_balance</th>\n",
       "      <th>weight_value</th>\n",
       "    </tr>\n",
       "  </thead>\n",
       "  <tbody>\n",
       "    <tr>\n",
       "      <th>0</th>\n",
       "      <td>8000.0</td>\n",
       "      <td>1000.0</td>\n",
       "      <td>7000.0</td>\n",
       "      <td>1.0</td>\n",
       "    </tr>\n",
       "    <tr>\n",
       "      <th>1</th>\n",
       "      <td>12000.0</td>\n",
       "      <td>1000.0</td>\n",
       "      <td>11000.0</td>\n",
       "      <td>0.8</td>\n",
       "    </tr>\n",
       "    <tr>\n",
       "      <th>2</th>\n",
       "      <td>4000.0</td>\n",
       "      <td>1000.0</td>\n",
       "      <td>3000.0</td>\n",
       "      <td>1.2</td>\n",
       "    </tr>\n",
       "  </tbody>\n",
       "</table>\n",
       "</div>"
      ],
      "text/plain": [
       "   gov_tax  gov_spending  gov_balance  weight_value\n",
       "0   8000.0        1000.0       7000.0           1.0\n",
       "1  12000.0        1000.0      11000.0           0.8\n",
       "2   4000.0        1000.0       3000.0           1.2"
      ]
     },
     "execution_count": 4,
     "metadata": {},
     "output_type": "execute_result"
    }
   ],
   "source": [
    "sim = Simulation(dataset=dataset, policy=policy, dynamics=dynamics, country='uk')\n",
    "out = sim.dataset.data.copy()\n",
    "# Simple placeholders for fiscal outputs\n",
    "out.tables['household']['gov_tax'] = out.tables['household']['market_income'] * 0.2\n",
    "out.tables['household']['gov_spending'] = 1000.0\n",
    "out.tables['household']['gov_balance'] = out.tables['household']['gov_tax'] - out.tables['household']['gov_spending']\n",
    "out.tables['household']['weight_value'] = out.tables['household']['household_weight']\n",
    "sim.result = Dataset(dataset_type='uk', data=out)\n",
    "sim.result.data.tables['household'][['gov_tax','gov_spending','gov_balance','weight_value']].head()\n"
   ]
  }
 ],
 "metadata": {
  "kernelspec": {
   "display_name": "policyengine",
   "language": "python",
   "name": "python3"
  },
  "language_info": {
   "codemirror_mode": {
    "name": "ipython",
    "version": 3
   },
   "file_extension": ".py",
   "mimetype": "text/x-python",
   "name": "python",
   "nbconvert_exporter": "python",
   "pygments_lexer": "ipython3",
   "version": "3.13.5"
  }
 },
 "nbformat": 4,
 "nbformat_minor": 5
}
