{
 "cells": [
  {
   "cell_type": "markdown",
   "metadata": {},
   "source": [
    "# Compare outcomes for specific household scenarios\n",
    "\n",
    "Use `Simulation.calculate_household_comparison()` to use PolicyEngine's tax-benefit model to compare how taxes, benefits and other household properties change under a change in tax or benefit rules. This notebook demonstrates how to use this function to compare outcomes for specific households."
   ]
  },
  {
   "cell_type": "code",
   "execution_count": null,
   "metadata": {},
   "outputs": [],
   "source": [
    "from policyengine import Simulation\n",
    "\n",
    "sim = Simulation(\n",
    "    scope=\"household\",\n",
    "    country=\"us\",\n",
    "    data={ # Required for this\n",
    "        \"people\": {\n",
    "            \"person\": {\n",
    "                \"age\": {\n",
    "                    \"2025\": 30,\n",
    "                },\n",
    "                \"employment_income\": {\n",
    "                    \"2025\": 30_000,\n",
    "                },\n",
    "            }\n",
    "        }\n",
    "    },\n",
    "    reform={\n",
    "        \"gov.usda.snap.income.deductions.earned_income\": {\n",
    "            \"2025\": 0.05\n",
    "        }\n",
    "    }\n",
    ")\n",
    "\n",
    "sim.calculate_household_comparison()"
   ]
  },
  {
   "cell_type": "markdown",
   "metadata": {},
   "source": [
    "## Output schema\n",
    "\n",
    "`calculate_household_comparison` or `calculate` (when `scope=household` and `reform is not None`) return the following schema."
   ]
  },
  {
   "cell_type": "code",
   "execution_count": 2,
   "metadata": {},
   "outputs": [
    {
     "data": {
      "text/plain": [
       "{'properties': {'full_household_baseline': {'additionalProperties': {'anyOf': [{'additionalProperties': {'additionalProperties': {'additionalProperties': {'anyOf': [{'type': 'number'},\n",
       "          {'type': 'string'},\n",
       "          {'type': 'boolean'},\n",
       "          {'items': {}, 'type': 'array'},\n",
       "          {'type': 'null'}]},\n",
       "        'type': 'object'},\n",
       "       'type': 'object'},\n",
       "      'type': 'object'},\n",
       "     {'items': {'items': {'additionalProperties': {'anyOf': [{'type': 'string'},\n",
       "          {'type': 'integer'}]},\n",
       "        'type': 'object'},\n",
       "       'type': 'array'},\n",
       "      'type': 'array'}]},\n",
       "   'title': 'Full Household Baseline',\n",
       "   'type': 'object'},\n",
       "  'full_household_reform': {'additionalProperties': {'anyOf': [{'additionalProperties': {'additionalProperties': {'additionalProperties': {'anyOf': [{'type': 'number'},\n",
       "          {'type': 'string'},\n",
       "          {'type': 'boolean'},\n",
       "          {'items': {}, 'type': 'array'},\n",
       "          {'type': 'null'}]},\n",
       "        'type': 'object'},\n",
       "       'type': 'object'},\n",
       "      'type': 'object'},\n",
       "     {'items': {'items': {'additionalProperties': {'anyOf': [{'type': 'string'},\n",
       "          {'type': 'integer'}]},\n",
       "        'type': 'object'},\n",
       "       'type': 'array'},\n",
       "      'type': 'array'}]},\n",
       "   'title': 'Full Household Reform',\n",
       "   'type': 'object'},\n",
       "  'change': {'additionalProperties': {'anyOf': [{'additionalProperties': {'additionalProperties': {'additionalProperties': {'anyOf': [{'type': 'number'},\n",
       "          {'type': 'string'},\n",
       "          {'type': 'boolean'},\n",
       "          {'items': {}, 'type': 'array'},\n",
       "          {'type': 'null'}]},\n",
       "        'type': 'object'},\n",
       "       'type': 'object'},\n",
       "      'type': 'object'},\n",
       "     {'items': {'items': {'additionalProperties': {'anyOf': [{'type': 'string'},\n",
       "          {'type': 'integer'}]},\n",
       "        'type': 'object'},\n",
       "       'type': 'array'},\n",
       "      'type': 'array'}]},\n",
       "   'title': 'Change',\n",
       "   'type': 'object'}},\n",
       " 'required': ['full_household_baseline', 'full_household_reform', 'change'],\n",
       " 'title': 'HouseholdComparison',\n",
       " 'type': 'object'}"
      ]
     },
     "execution_count": 2,
     "metadata": {},
     "output_type": "execute_result"
    }
   ],
   "source": [
    "from policyengine.outputs.household.comparison.calculate_household_comparison import HouseholdComparison\n",
    "\n",
    "HouseholdComparison.model_json_schema()"
   ]
  }
 ],
 "metadata": {
  "kernelspec": {
   "display_name": "base",
   "language": "python",
   "name": "python3"
  },
  "language_info": {
   "codemirror_mode": {
    "name": "ipython",
    "version": 3
   },
   "file_extension": ".py",
   "mimetype": "text/x-python",
   "name": "python",
   "nbconvert_exporter": "python",
   "pygments_lexer": "ipython3",
   "version": "3.12.9"
  }
 },
 "nbformat": 4,
 "nbformat_minor": 2
}
