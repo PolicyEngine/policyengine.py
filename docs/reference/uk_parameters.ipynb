{
 "cells": [
  {
   "cell_type": "markdown",
   "metadata": {},
   "source": [
    "# UK parameters\n",
    "\n",
    "This page shows a list of available parameters for reforms for the UK model.\n",
    "\n",
    "We exclude from this list:\n",
    "\n",
    "* Some parameters without documentation (we're a large, fast-growing model maintained by a small team- we're working on it!)\n",
    "* Abolition parameters, which mirror each household property and allow the user to set the value of the property to zero (these take the format `gov.abolitions.variable_name`) because these roughly triple the size of this list and are repetitive.\n"
   ]
  },
  {
   "cell_type": "code",
   "execution_count": 13,
   "metadata": {
    "tags": [
     "hide-input"
    ]
   },
   "outputs": [],
   "source": [
    "from IPython.display import Markdown\n",
    "from policyengine_uk.system import system\n",
    "from policyengine_core.parameters import Parameter\n",
    "import pandas as pd\n",
    "\n",
    "parameters = system.parameters\n",
    "\n",
    "markdown = \"\"\"# UK parameters\n",
    "\n",
    "This page shows a list of available parameters for reforms for the UK model.\n",
    "\n",
    "We exclude from this list:\n",
    "\n",
    "* Some parameters without documentation (we're a large, fast-growing model maintained by a small team- we're working on it!)\n",
    "* Abolition parameters, which mirror each household property and allow the user to set the value of the property to zero (these take the format `gov.abolitions.variable_name`) because these roughly triple the size of this list and are repetitive.\n",
    "\"\"\"\n",
    "i = 0\n",
    "for parameter in parameters.get_descendants():\n",
    "    if isinstance(parameter, Parameter):\n",
    "        if not parameter.metadata.get(\"label\"):\n",
    "            continue\n",
    "        if \".abolitions.\" in parameter.name:\n",
    "            continue\n",
    "        if type(parameter(2025)) not in (int, float, bool):\n",
    "            continue\n",
    "        markdown += f\"### {parameter.name}\\n\"\n",
    "        markdown += f\"**Label:** {parameter.metadata.get('label')}\\n\\n\"\n",
    "        if parameter.description:\n",
    "            markdown += f\"{parameter.description}\\n\\n\"\n",
    "        markdown += f\"**Type:** {type(parameter(2025)).__name__}\\n\\n\"\n",
    "        markdown += f\"**Current value:** {parameter(2025)}\\n\\n---\"\n",
    "        markdown += \"\\n\\n\"\n",
    "        i += 1\n",
    "\n",
    "with open(\"./parameters_uk.md\", \"w+\") as f:\n",
    "    f.write(markdown)"
   ]
  }
 ],
 "metadata": {
  "kernelspec": {
   "display_name": "base",
   "language": "python",
   "name": "python3"
  },
  "language_info": {
   "codemirror_mode": {
    "name": "ipython",
    "version": 3
   },
   "file_extension": ".py",
   "mimetype": "text/x-python",
   "name": "python",
   "nbconvert_exporter": "python",
   "pygments_lexer": "ipython3",
   "version": "3.10.14"
  }
 },
 "nbformat": 4,
 "nbformat_minor": 2
}
