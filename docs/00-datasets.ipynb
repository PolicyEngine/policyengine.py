{
 "cells": [
  {
   "cell_type": "markdown",
   "metadata": {},
   "source": [
    "# Datasets\n",
    "\n",
    "Use built-in dataset creators for national datasets or small, synthetic tables with the correct structure. Synthetic datasets run offline and are ideal for tests and examples."
   ]
  },
  {
   "cell_type": "markdown",
   "metadata": {},
   "source": [
    "## UK datasets\n",
    "\n",
    "- National: `create_efrss(year=2029)`\n",
    "- Synthetic: `create_uk_synthetic(year=2029)`\n",
    "\n",
    "The synthetic dataset includes tables `person`, `benunit`, and `household` with required ID columns."
   ]
  },
  {
   "cell_type": "code",
   "execution_count": 1,
   "metadata": {},
   "outputs": [
    {
     "data": {
      "text/plain": [
       "['benunit', 'household', 'person']"
      ]
     },
     "execution_count": 1,
     "metadata": {},
     "output_type": "execute_result"
    }
   ],
   "source": [
    "from policyengine.countries.uk.datasets import create_uk_synthetic\n",
    "uk = create_uk_synthetic()\n",
    "sorted(list(uk.data.tables.keys()))\n"
   ]
  },
  {
   "cell_type": "markdown",
   "metadata": {},
   "source": [
    "## US datasets\n",
    "\n",
    "- National: `create_ecps()`\n",
    "- Synthetic: `create_us_synthetic(year=2024)`\n",
    "\n",
    "The synthetic dataset includes tables `person`, `marital_unit`, `tax_unit`, `family`, `spm_unit`, and `household` with required ID columns."
   ]
  },
  {
   "cell_type": "code",
   "execution_count": 2,
   "metadata": {},
   "outputs": [
    {
     "data": {
      "text/plain": [
       "['family', 'household', 'marital_unit', 'person', 'spm_unit', 'tax_unit']"
      ]
     },
     "execution_count": 2,
     "metadata": {},
     "output_type": "execute_result"
    }
   ],
   "source": [
    "from policyengine.countries.us.datasets import create_us_synthetic\n",
    "us = create_us_synthetic()\n",
    "sorted(list(us.data.tables.keys()))\n"
   ]
  }
 ],
 "metadata": {
  "kernelspec": {
   "display_name": "policyengine",
   "language": "python",
   "name": "python3"
  },
  "language_info": {
   "codemirror_mode": {
    "name": "ipython",
    "version": 3
   },
   "file_extension": ".py",
   "mimetype": "text/x-python",
   "name": "python",
   "nbconvert_exporter": "python",
   "pygments_lexer": "ipython3",
   "version": "3.13.5"
  }
 },
 "nbformat": 4,
 "nbformat_minor": 5
}
