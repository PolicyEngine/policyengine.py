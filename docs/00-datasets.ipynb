{
 "cells": [
  {
   "cell_type": "markdown",
   "id": "7fb27b941602401d91542211134fc71a",
   "metadata": {},
   "source": [
    "# Datasets\n",
    "\n",
    "Use built-in dataset creators for national datasets or small, synthetic tables with the correct structure. Synthetic datasets run offline and are ideal for tests and examples."
   ]
  },
  {
   "cell_type": "markdown",
   "id": "acae54e37e7d407bbb7b55eff062a284",
   "metadata": {},
   "source": [
    "## UK datasets\n",
    "\n",
    "- National: `create_efrss(year=2029)`\n",
    "- Synthetic: `create_uk_synthetic(year=2029)`\n",
    "\n",
    "The synthetic dataset includes tables `person`, `benunit`, and `household` with required ID columns."
   ]
  },
  {
   "cell_type": "code",
   "execution_count": 1,
   "id": "9a63283cbaf04dbcab1f6479b197f3a8",
   "metadata": {},
   "outputs": [
    {
     "data": {
      "text/plain": [
       "['benunit', 'household', 'person']"
      ]
     },
     "execution_count": 1,
     "metadata": {},
     "output_type": "execute_result"
    }
   ],
   "source": [
    "from policyengine.countries.uk.datasets import create_uk_synthetic\n",
    "\n",
    "uk = create_uk_synthetic()\n",
    "sorted(list(uk.data.tables.keys()))"
   ]
  },
  {
   "cell_type": "markdown",
   "id": "8dd0d8092fe74a7c96281538738b07e2",
   "metadata": {},
   "source": [
    "## US datasets\n",
    "\n",
    "- National: `create_ecps()`\n",
    "- Synthetic: `create_us_synthetic(year=2024)`\n",
    "\n",
    "The synthetic dataset includes tables `person`, `marital_unit`, `tax_unit`, `family`, `spm_unit`, and `household` with required ID columns."
   ]
  },
  {
   "cell_type": "code",
   "execution_count": 2,
   "id": "72eea5119410473aa328ad9291626812",
   "metadata": {},
   "outputs": [
    {
     "data": {
      "text/plain": [
       "['family', 'household', 'marital_unit', 'person', 'spm_unit', 'tax_unit']"
      ]
     },
     "execution_count": 2,
     "metadata": {},
     "output_type": "execute_result"
    }
   ],
   "source": [
    "from policyengine.countries.us.datasets import create_us_synthetic\n",
    "\n",
    "us = create_us_synthetic()\n",
    "sorted(list(us.data.tables.keys()))"
   ]
  }
 ],
 "metadata": {
  "kernelspec": {
   "display_name": "policyengine",
   "language": "python",
   "name": "python3"
  },
  "language_info": {
   "codemirror_mode": {
    "name": "ipython",
    "version": 3
   },
   "file_extension": ".py",
   "mimetype": "text/x-python",
   "name": "python",
   "nbconvert_exporter": "python",
   "pygments_lexer": "ipython3",
   "version": "3.13.5"
  }
 },
 "nbformat": 4,
 "nbformat_minor": 5
}
