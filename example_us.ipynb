{
 "cells": [
  {
   "cell_type": "markdown",
   "metadata": {},
   "source": [
    "# Example: US simulation with synthetic data\n\n",
    "This example uses the built-in synthetic US dataset and a simple, offline calculation to illustrate the workflow."
   ]
  },
  {
   "cell_type": "code",
   "execution_count": null,
   "metadata": {},
   "outputs": [],
   "source": [
    "from policyengine.models import Simulation, Dataset, Policy, Dynamics\n",
    "from policyengine.countries.us.datasets import create_us_synthetic\n"
   ]
  },
  {
   "cell_type": "code",
   "execution_count": null,
   "metadata": {},
   "outputs": [],
   "source": [
    "from policyengine.models import ParameterValue\n",
    "from policyengine.models import Policy as _PolicyModel\n",
    "_PolicyModel.model_rebuild()\n"
   ]
  },
  {
   "cell_type": "code",
   "execution_count": null,
   "metadata": {},
   "outputs": [],
   "source": [
    "dataset = create_us_synthetic(year=2024)\n",
    "policy = Policy(name='current law')\n",
    "dynamics = Dynamics(name='static')\n",
    "sim = Simulation(dataset=dataset, policy=policy, dynamics=dynamics, country='us')\n"
   ]
  },
  {
   "cell_type": "markdown",
   "metadata": {},
   "source": [
    "Emulate a run by computing a simple income tax and carrying weights for the synthetic data."
   ]
  },
  {
   "cell_type": "code",
   "execution_count": null,
   "metadata": {},
   "outputs": [],
   "source": [
    "import pandas as pd\n",
    "out = sim.dataset.data.copy()\n",
    "tu = out.tables['tax_unit']\n",
    "# Add minimal columns if missing for illustration\n",
    "if 'market_income' not in tu.columns:\n",
    "    tu['market_income'] = pd.Series([50000, 75000, 30000, 120000, 15000])[:len(tu)]\n",
    "if 'household_weight' not in tu.columns:\n",
    "    tu['household_weight'] = 1.0\n",
    "tu['income_tax'] = tu['market_income'] * 0.1\n",
    "tu['weight_value'] = tu['household_weight']\n",
    "sim.result = Dataset(dataset_type='us', data=out)\n",
    "sim.result.data.tables['tax_unit'].head()\n"
   ]
  }
 ],
 "metadata": {
  "kernelspec": {
   "display_name": "Python 3",
   "language": "python",
   "name": "python3"
  },
  "language_info": {
   "name": "python",
   "pygments_lexer": "ipython3"
  }
 },
 "nbformat": 4,
 "nbformat_minor": 5
}