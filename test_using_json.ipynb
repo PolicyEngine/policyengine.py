{
 "cells": [
  {
   "cell_type": "code",
   "execution_count": 1,
   "metadata": {},
   "outputs": [
    {
     "name": "stderr",
     "output_type": "stream",
     "text": [
      "/opt/miniconda3/envs/py-3.11/lib/python3.11/site-packages/tqdm/auto.py:21: TqdmWarning: IProgress not found. Please update jupyter and ipywidgets. See https://ipywidgets.readthedocs.io/en/stable/user_install.html\n",
      "  from .autonotebook import tqdm as notebook_tqdm\n"
     ]
    }
   ],
   "source": [
    "from policyengine.entities import create_db_and_tables\n",
    "import h5py\n",
    "import numpy as np\n",
    "from sqlmodel import SQLModel, Field, create_engine, Session\n",
    "from typing import Optional\n",
    "import pandas as pd\n",
    "from policyengine.entities import Entity, Variable\n",
    "import time\n",
    "\n",
    "# engine = create_db_and_tables(connection_string=\"sqlite:///tax_policy_sqlite.db\")"
   ]
  },
  {
   "cell_type": "code",
   "execution_count": 2,
   "metadata": {},
   "outputs": [
    {
     "name": "stdout",
     "output_type": "stream",
     "text": [
      "Variable metadata loaded in 0.01 seconds\n"
     ]
    }
   ],
   "source": [
    "from policyengine_us import Microsimulation\n",
    "\n",
    "def load_vars_to_json(vars: dict):\n",
    "    with open('variables.json', 'w') as f:\n",
    "        for var_name, var in vars.items():\n",
    "            record = {\n",
    "                'country_id': 'us',\n",
    "                'name': var_name,\n",
    "                'description': getattr(var, 'description', ''),\n",
    "                'dataset_series_id': 1\n",
    "            }\n",
    "            f.write(f\"{record}\\n\")\n",
    "\n",
    "# Load -us sim just to get variables in structured way\n",
    "sim: Microsimulation = Microsimulation()\n",
    "\n",
    "tbs = sim.tax_benefit_system\n",
    "vars = tbs.variables\n",
    "\n",
    "start_time = time.time()\n",
    "load_vars_to_json(vars)\n",
    "end_time=time.time()\n",
    "print(f\"Variable metadata loaded in {end_time - start_time:.2f} seconds\")"
   ]
  },
  {
   "cell_type": "code",
   "execution_count": 3,
   "metadata": {},
   "outputs": [
    {
     "name": "stdout",
     "output_type": "stream",
     "text": [
      "Households loaded in 0.52 seconds\n"
     ]
    }
   ],
   "source": [
    "\n",
    "def load_hdf5_to_json(hdf5_path: str, dataset_name: str):\n",
    "    with h5py.File(hdf5_path, 'r') as hdf5_file:\n",
    "        dataset = hdf5_file[dataset_name][\"2024\"]\n",
    "\n",
    "        with open(f\"{dataset_name}_data.json\", 'w') as f:\n",
    "            for i, row in enumerate(dataset):\n",
    "                record = {\n",
    "                    'id': i,\n",
    "                    'country_id': 'us',\n",
    "                    'entity_type': 'household',\n",
    "                    'dataset_series_id': 1,  # Assuming a dataset ID of 1 for this example\n",
    "                }\n",
    "                f.write(f\"{record}\\n\")\n",
    "\n",
    "start_time = time.time()\n",
    "load_hdf5_to_json(\"./enhanced_cps_2024.h5\", \"age\")\n",
    "end_time = time.time()\n",
    "print(f\"Households loaded in {end_time - start_time:.2f} seconds\")\n"
   ]
  },
  {
   "cell_type": "code",
   "execution_count": 4,
   "metadata": {},
   "outputs": [
    {
     "name": "stderr",
     "output_type": "stream",
     "text": [
      "No data provided, using default dataset: gs://policyengine-us-data/cps_2023.h5\n",
      "Downloading cps_2023.h5 from bucket policyengine-us-data\n",
      "INFO:root:Using Google Cloud Storage for download.\n",
      "INFO:root:Metadata for blob policyengine-us-data, cps_2023.h5 has version: 1.31.0\n",
      "WARNING:root:No version specified for policyengine-us-data, cps_2023.h5. Using latest version: 1.31.0\n",
      "INFO:policyengine.utils.data.caching_google_storage_client:Syncing policyengine-us-data, cps_2023.h5, 1.31.0 to cache\n",
      "INFO:root:Blob policyengine-us-data, /b/policyengine-us-data/o/cps_2023.h5 has version 1.31.0\n",
      "INFO:policyengine.utils.data.simplified_google_storage_client:Crc for policyengine-us-data, cps_2023.h5 is mW2ZeQ==\n",
      "INFO:root:Blob policyengine-us-data, /b/policyengine-us-data/o/cps_2023.h5 has version 1.31.0\n",
      "INFO:policyengine.utils.data.simplified_google_storage_client:Downloaded policyengine-us-data, cps_2023.h5, version:1.31.0\n",
      "INFO:policyengine.utils.data.caching_google_storage_client:Downloaded new version of policyengine-us-data, cps_2023.h5, 1.31.0 with crc mW2ZeQ==\n",
      "INFO:policyengine.utils.data.caching_google_storage_client:Cache updated for {id_string}\n",
      "INFO:policyengine.utils.data.caching_google_storage_client:Copying downloaded data for policyengine-us-data, cps_2023.h5 to cps_2023.h5\n",
      "INFO:policyengine.utils.data.caching_google_storage_client:Data successfully copied to cps_2023.h5 with version 1.31.0\n",
      "INFO:root:Data loaded\n",
      "INFO:root:Simulations initialised\n",
      "INFO:root:Output functions loaded\n"
     ]
    },
    {
     "name": "stdout",
     "output_type": "stream",
     "text": [
      "Variable 'household_count_people' written to JSON file in 49.27 seconds\n",
      "Variable 'household_count_people' written to database with strategy 'json'\n",
      "Variable 'household_tax' written to JSON file in 47.60 seconds\n",
      "Variable 'household_tax' written to database with strategy 'json'\n",
      "Variable 'household_benefits' written to JSON file in 45.70 seconds\n",
      "Variable 'household_benefits' written to database with strategy 'json'\n",
      "Variable 'equiv_household_net_income' written to JSON file in 45.50 seconds\n",
      "Variable 'equiv_household_net_income' written to database with strategy 'json'\n",
      "Variable 'is_male' written to JSON file in 113.06 seconds\n",
      "Variable 'is_male' written to database with strategy 'json'\n",
      "Variable 'race' written to JSON file in 120.11 seconds\n",
      "Variable 'race' written to database with strategy 'json'\n",
      "Variable 'age' written to JSON file in 124.83 seconds\n",
      "Variable 'age' written to database with strategy 'json'\n",
      "Variable 'in_poverty' written to JSON file in 54.35 seconds\n",
      "Variable 'in_poverty' written to database with strategy 'json'\n",
      "Variable 'in_deep_poverty' written to JSON file in 125.40 seconds\n",
      "Variable 'in_deep_poverty' written to database with strategy 'json'\n",
      "Variable 'poverty_gap' written to JSON file in 54.09 seconds\n",
      "Variable 'poverty_gap' written to database with strategy 'json'\n",
      "Variable 'deep_poverty_gap' written to JSON file in 56.83 seconds\n",
      "Variable 'deep_poverty_gap' written to database with strategy 'json'\n",
      "Variable 'household_net_income' written to JSON file in 51.43 seconds\n",
      "Variable 'household_net_income' written to database with strategy 'json'\n"
     ]
    },
    {
     "ename": "AttributeError",
     "evalue": "'NoneType' object has no attribute 'id'",
     "output_type": "error",
     "traceback": [
      "\u001b[0;31m---------------------------------------------------------------------------\u001b[0m",
      "\u001b[0;31mAttributeError\u001b[0m                            Traceback (most recent call last)",
      "Cell \u001b[0;32mIn[4], line 9\u001b[0m\n\u001b[1;32m      1\u001b[0m \u001b[38;5;28;01mfrom\u001b[39;00m\u001b[38;5;250m \u001b[39m\u001b[38;5;21;01mpolicyengine\u001b[39;00m\u001b[38;5;250m \u001b[39m\u001b[38;5;28;01mimport\u001b[39;00m Simulation\n\u001b[1;32m      3\u001b[0m pysim \u001b[38;5;241m=\u001b[39m Simulation(\n\u001b[1;32m      4\u001b[0m     country\u001b[38;5;241m=\u001b[39m\u001b[38;5;124m\"\u001b[39m\u001b[38;5;124mus\u001b[39m\u001b[38;5;124m\"\u001b[39m,\n\u001b[1;32m      5\u001b[0m     scope\u001b[38;5;241m=\u001b[39m\u001b[38;5;124m\"\u001b[39m\u001b[38;5;124mmacro\u001b[39m\u001b[38;5;124m\"\u001b[39m,\n\u001b[1;32m      6\u001b[0m     time_period\u001b[38;5;241m=\u001b[39m\u001b[38;5;241m2025\u001b[39m,\n\u001b[1;32m      7\u001b[0m )\n\u001b[0;32m----> 9\u001b[0m \u001b[43mpysim\u001b[49m\u001b[38;5;241;43m.\u001b[39;49m\u001b[43mcalculate_single_economy\u001b[49m\u001b[43m(\u001b[49m\u001b[43m)\u001b[49m\n",
      "File \u001b[0;32m~/Documents/PolicyEngine/policyengine.py/policyengine/outputs/macro/single/calculate_single_economy.py:565\u001b[0m, in \u001b[0;36mcalculate_single_economy\u001b[0;34m(simulation, reform)\u001b[0m\n\u001b[1;32m    556\u001b[0m lsr_working_hours \u001b[38;5;241m=\u001b[39m task_manager\u001b[38;5;241m.\u001b[39mcalculate_lsr_working_hours()\n\u001b[1;32m    557\u001b[0m (\n\u001b[1;32m    558\u001b[0m     in_poverty,\n\u001b[1;32m    559\u001b[0m     person_in_poverty,\n\u001b[0;32m   (...)\u001b[0m\n\u001b[1;32m    562\u001b[0m     deep_poverty_gap,\n\u001b[1;32m    563\u001b[0m ) \u001b[38;5;241m=\u001b[39m task_manager\u001b[38;5;241m.\u001b[39mcalculate_poverty_metrics()\n\u001b[1;32m    564\u001b[0m total_net_income, employment_income_hh, self_employment_income_hh \u001b[38;5;241m=\u001b[39m (\n\u001b[0;32m--> 565\u001b[0m     \u001b[43mtask_manager\u001b[49m\u001b[38;5;241;43m.\u001b[39;49m\u001b[43mcalculate_income_breakdown_metrics\u001b[49m\u001b[43m(\u001b[49m\u001b[43m)\u001b[49m\n\u001b[1;32m    566\u001b[0m )\n\u001b[1;32m    567\u001b[0m (\n\u001b[1;32m    568\u001b[0m     household_net_income,\n\u001b[1;32m    569\u001b[0m     equiv_household_net_income,\n\u001b[1;32m    570\u001b[0m     household_income_decile,\n\u001b[1;32m    571\u001b[0m     household_market_income,\n\u001b[1;32m    572\u001b[0m ) \u001b[38;5;241m=\u001b[39m task_manager\u001b[38;5;241m.\u001b[39mcalculate_household_income_metrics()\n\u001b[1;32m    573\u001b[0m person_weight, household_weight \u001b[38;5;241m=\u001b[39m task_manager\u001b[38;5;241m.\u001b[39mcalculate_weights()\n",
      "File \u001b[0;32m~/Documents/PolicyEngine/policyengine.py/policyengine/outputs/macro/single/calculate_single_economy.py:298\u001b[0m, in \u001b[0;36mGeneralEconomyTask.calculate_income_breakdown_metrics\u001b[0;34m(self)\u001b[0m\n\u001b[1;32m    286\u001b[0m employment_income_hh \u001b[38;5;241m=\u001b[39m (\n\u001b[1;32m    287\u001b[0m     \u001b[38;5;28mself\u001b[39m\u001b[38;5;241m.\u001b[39msimulation\u001b[38;5;241m.\u001b[39mcalculate(\u001b[38;5;124m\"\u001b[39m\u001b[38;5;124memployment_income\u001b[39m\u001b[38;5;124m\"\u001b[39m, map_to\u001b[38;5;241m=\u001b[39m\u001b[38;5;124m\"\u001b[39m\u001b[38;5;124mhousehold\u001b[39m\u001b[38;5;124m\"\u001b[39m)\n\u001b[1;32m    288\u001b[0m     \u001b[38;5;241m.\u001b[39mastype(\u001b[38;5;28mfloat\u001b[39m)\n\u001b[1;32m    289\u001b[0m     \u001b[38;5;241m.\u001b[39mtolist()\n\u001b[1;32m    290\u001b[0m )\n\u001b[1;32m    291\u001b[0m self_employment_income_hh \u001b[38;5;241m=\u001b[39m (\n\u001b[1;32m    292\u001b[0m     \u001b[38;5;28mself\u001b[39m\u001b[38;5;241m.\u001b[39msimulation\u001b[38;5;241m.\u001b[39mcalculate(\n\u001b[1;32m    293\u001b[0m         \u001b[38;5;124m\"\u001b[39m\u001b[38;5;124mself_employment_income\u001b[39m\u001b[38;5;124m\"\u001b[39m, map_to\u001b[38;5;241m=\u001b[39m\u001b[38;5;124m\"\u001b[39m\u001b[38;5;124mhousehold\u001b[39m\u001b[38;5;124m\"\u001b[39m\n\u001b[0;32m   (...)\u001b[0m\n\u001b[1;32m    296\u001b[0m     \u001b[38;5;241m.\u001b[39mtolist()\n\u001b[1;32m    297\u001b[0m )\n\u001b[0;32m--> 298\u001b[0m \u001b[38;5;28;43mself\u001b[39;49m\u001b[38;5;241;43m.\u001b[39;49m\u001b[43m_write_var_to_db\u001b[49m\u001b[43m(\u001b[49m\n\u001b[1;32m    299\u001b[0m \u001b[43m    \u001b[49m\u001b[38;5;124;43m\"\u001b[39;49m\u001b[38;5;124;43memployment_income_hh\u001b[39;49m\u001b[38;5;124;43m\"\u001b[39;49m\u001b[43m,\u001b[49m\u001b[43m \u001b[49m\u001b[43memployment_income_hh\u001b[49m\u001b[43m,\u001b[49m\u001b[43m \u001b[49m\u001b[38;5;124;43m\"\u001b[39;49m\u001b[38;5;124;43mjson\u001b[39;49m\u001b[38;5;124;43m\"\u001b[39;49m\n\u001b[1;32m    300\u001b[0m \u001b[43m\u001b[49m\u001b[43m)\u001b[49m\n\u001b[1;32m    301\u001b[0m \u001b[38;5;28mself\u001b[39m\u001b[38;5;241m.\u001b[39m_write_var_to_db(\n\u001b[1;32m    302\u001b[0m     \u001b[38;5;124m\"\u001b[39m\u001b[38;5;124mself_employment_income_hh\u001b[39m\u001b[38;5;124m\"\u001b[39m, self_employment_income_hh, \u001b[38;5;124m\"\u001b[39m\u001b[38;5;124mjson\u001b[39m\u001b[38;5;124m\"\u001b[39m\n\u001b[1;32m    303\u001b[0m )\n\u001b[1;32m    305\u001b[0m \u001b[38;5;28;01mreturn\u001b[39;00m (\n\u001b[1;32m    306\u001b[0m     total_net_income,\n\u001b[1;32m    307\u001b[0m     employment_income_hh,\n\u001b[1;32m    308\u001b[0m     self_employment_income_hh,\n\u001b[1;32m    309\u001b[0m )\n",
      "File \u001b[0;32m~/Documents/PolicyEngine/policyengine.py/policyengine/outputs/macro/single/calculate_single_economy.py:128\u001b[0m, in \u001b[0;36mGeneralEconomyTask._write_var_to_db\u001b[0;34m(self, var_name, data, strategy)\u001b[0m\n\u001b[1;32m    126\u001b[0m     \u001b[38;5;28mself\u001b[39m\u001b[38;5;241m.\u001b[39m_write_var_to_db_batched_sql(var_name, data)\n\u001b[1;32m    127\u001b[0m \u001b[38;5;28;01mcase\u001b[39;00m \u001b[38;5;124m\"\u001b[39m\u001b[38;5;124mjson\u001b[39m\u001b[38;5;124m\"\u001b[39m:\n\u001b[0;32m--> 128\u001b[0m     \u001b[38;5;28;43mself\u001b[39;49m\u001b[38;5;241;43m.\u001b[39;49m\u001b[43m_write_var_to_db_json\u001b[49m\u001b[43m(\u001b[49m\u001b[43mvar_name\u001b[49m\u001b[43m,\u001b[49m\u001b[43m \u001b[49m\u001b[43mdata\u001b[49m\u001b[43m)\u001b[49m\n\u001b[1;32m    129\u001b[0m \u001b[38;5;28;01mcase\u001b[39;00m\u001b[38;5;250m \u001b[39m\u001b[38;5;28;01m_\u001b[39;00m:\n\u001b[1;32m    130\u001b[0m     \u001b[38;5;28;01mraise\u001b[39;00m \u001b[38;5;167;01mValueError\u001b[39;00m(\u001b[38;5;124mf\u001b[39m\u001b[38;5;124m\"\u001b[39m\u001b[38;5;124mUnknown strategy: \u001b[39m\u001b[38;5;132;01m{\u001b[39;00mstrategy\u001b[38;5;132;01m}\u001b[39;00m\u001b[38;5;124m\"\u001b[39m)\n",
      "File \u001b[0;32m~/Documents/PolicyEngine/policyengine.py/policyengine/outputs/macro/single/calculate_single_economy.py:147\u001b[0m, in \u001b[0;36mGeneralEconomyTask._write_var_to_db_json\u001b[0;34m(self, var_name, data)\u001b[0m\n\u001b[1;32m    144\u001b[0m         time_period \u001b[38;5;241m=\u001b[39m \u001b[38;5;124m\"\u001b[39m\u001b[38;5;124m2025\u001b[39m\u001b[38;5;124m\"\u001b[39m\n\u001b[1;32m    145\u001b[0m         \u001b[38;5;66;03m# Create a record in JSON format\u001b[39;00m\n\u001b[1;32m    146\u001b[0m         record \u001b[38;5;241m=\u001b[39m {\n\u001b[0;32m--> 147\u001b[0m             \u001b[38;5;124m\"\u001b[39m\u001b[38;5;124mvariable_id\u001b[39m\u001b[38;5;124m\"\u001b[39m: \u001b[38;5;28;43mself\u001b[39;49m\u001b[38;5;241;43m.\u001b[39;49m\u001b[43m_get_var_id_from_db\u001b[49m\u001b[43m(\u001b[49m\u001b[43mvar_name\u001b[49m\u001b[43m)\u001b[49m,\n\u001b[1;32m    148\u001b[0m             \u001b[38;5;124m\"\u001b[39m\u001b[38;5;124mentity_id\u001b[39m\u001b[38;5;124m\"\u001b[39m: index,\n\u001b[1;32m    149\u001b[0m             \u001b[38;5;124m\"\u001b[39m\u001b[38;5;124mtime_period\u001b[39m\u001b[38;5;124m\"\u001b[39m: time_period,\n\u001b[1;32m    150\u001b[0m             \u001b[38;5;124m\"\u001b[39m\u001b[38;5;124mvalue\u001b[39m\u001b[38;5;124m\"\u001b[39m: json\u001b[38;5;241m.\u001b[39mdumps(value),\n\u001b[1;32m    151\u001b[0m             \u001b[38;5;124m\"\u001b[39m\u001b[38;5;124msimulation_id\u001b[39m\u001b[38;5;124m\"\u001b[39m: \u001b[38;5;241m1\u001b[39m\n\u001b[1;32m    152\u001b[0m         }\n\u001b[1;32m    154\u001b[0m         f\u001b[38;5;241m.\u001b[39mwrite(json\u001b[38;5;241m.\u001b[39mdumps(record) \u001b[38;5;241m+\u001b[39m \u001b[38;5;124m\"\u001b[39m\u001b[38;5;130;01m\\n\u001b[39;00m\u001b[38;5;124m\"\u001b[39m)\n\u001b[1;32m    155\u001b[0m end_time \u001b[38;5;241m=\u001b[39m time\u001b[38;5;241m.\u001b[39mtime()\n",
      "File \u001b[0;32m~/Documents/PolicyEngine/policyengine.py/policyengine/outputs/macro/single/calculate_single_economy.py:112\u001b[0m, in \u001b[0;36mGeneralEconomyTask._get_var_id_from_db\u001b[0;34m(self, var_name)\u001b[0m\n\u001b[1;32m    105\u001b[0m \u001b[38;5;28;01mwith\u001b[39;00m Session(engine) \u001b[38;5;28;01mas\u001b[39;00m session:\n\u001b[1;32m    106\u001b[0m     query \u001b[38;5;241m=\u001b[39m (\n\u001b[1;32m    107\u001b[0m         session\u001b[38;5;241m.\u001b[39mquery(Variable)\n\u001b[1;32m    108\u001b[0m         \u001b[38;5;241m.\u001b[39mfilter(\n\u001b[1;32m    109\u001b[0m             Variable\u001b[38;5;241m.\u001b[39mname \u001b[38;5;241m==\u001b[39m var_name,\n\u001b[1;32m    110\u001b[0m         )\n\u001b[1;32m    111\u001b[0m     )\n\u001b[0;32m--> 112\u001b[0m     variable_id \u001b[38;5;241m=\u001b[39m \u001b[43mquery\u001b[49m\u001b[38;5;241;43m.\u001b[39;49m\u001b[43mfirst\u001b[49m\u001b[43m(\u001b[49m\u001b[43m)\u001b[49m\u001b[38;5;241;43m.\u001b[39;49m\u001b[43mid\u001b[49m\n\u001b[1;32m    113\u001b[0m     \u001b[38;5;28;01mif\u001b[39;00m \u001b[38;5;129;01mnot\u001b[39;00m variable_id:\n\u001b[1;32m    114\u001b[0m         \u001b[38;5;28;01mraise\u001b[39;00m \u001b[38;5;167;01mValueError\u001b[39;00m(\u001b[38;5;124mf\u001b[39m\u001b[38;5;124m\"\u001b[39m\u001b[38;5;124mVariable \u001b[39m\u001b[38;5;124m'\u001b[39m\u001b[38;5;132;01m{\u001b[39;00mvar_name\u001b[38;5;132;01m}\u001b[39;00m\u001b[38;5;124m'\u001b[39m\u001b[38;5;124m not found in the database.\u001b[39m\u001b[38;5;124m\"\u001b[39m)\n",
      "\u001b[0;31mAttributeError\u001b[0m: 'NoneType' object has no attribute 'id'"
     ]
    }
   ],
   "source": [
    "from policyengine import Simulation\n",
    "\n",
    "pysim = Simulation(\n",
    "    country=\"us\",\n",
    "    scope=\"macro\",\n",
    "    time_period=2025,\n",
    ")\n",
    "\n",
    "pysim.calculate_single_economy()"
   ]
  }
 ],
 "metadata": {
  "kernelspec": {
   "display_name": "py-3.11",
   "language": "python",
   "name": "python3"
  },
  "language_info": {
   "codemirror_mode": {
    "name": "ipython",
    "version": 3
   },
   "file_extension": ".py",
   "mimetype": "text/x-python",
   "name": "python",
   "nbconvert_exporter": "python",
   "pygments_lexer": "ipython3",
   "version": "3.11.11"
  }
 },
 "nbformat": 4,
 "nbformat_minor": 2
}
