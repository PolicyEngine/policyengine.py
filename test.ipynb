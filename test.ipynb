{
 "cells": [
  {
   "cell_type": "code",
   "execution_count": 1,
   "metadata": {},
   "outputs": [],
   "source": [
    "from policyengine import Simulation"
   ]
  },
  {
   "cell_type": "code",
   "execution_count": 2,
   "metadata": {},
   "outputs": [],
   "source": [
    "sim = Simulation(\n",
    "    country=\"uk\",\n",
    "    scope=\"household\",\n",
    "    data={\n",
    "        \"employment_income\": 30_000\n",
    "    },\n",
    "    time_period=2025,\n",
    "    reform={\n",
    "        \"gov.hmrc.income_tax.allowances.personal_allowance.amount\": {\n",
    "            \"2025\": 0,\n",
    "        }\n",
    "    }\n",
    ")"
   ]
  },
  {
   "cell_type": "code",
   "execution_count": 4,
   "metadata": {},
   "outputs": [
    {
     "name": "stdout",
     "output_type": "stream",
     "text": [
      "Calculating net_income_change...\n",
      "Calculating net_income...\n",
      "Stored result in household/baseline/net_income\n",
      "Calculating net_income...\n",
      "Stored result in household/reform/net_income\n",
      "Stored result in household/comparison/net_income_change\n"
     ]
    },
    {
     "data": {
      "text/plain": [
       "{'comparison': {'net_income_change': -2514.0},\n",
       " 'baseline': {'net_income': 28298.0},\n",
       " 'reform': {'net_income': 25784.0}}"
      ]
     },
     "execution_count": 4,
     "metadata": {},
     "output_type": "execute_result"
    }
   ],
   "source": [
    "sim.calculate(\"household\")"
   ]
  }
 ],
 "metadata": {
  "kernelspec": {
   "display_name": "base",
   "language": "python",
   "name": "python3"
  },
  "language_info": {
   "codemirror_mode": {
    "name": "ipython",
    "version": 3
   },
   "file_extension": ".py",
   "mimetype": "text/x-python",
   "name": "python",
   "nbconvert_exporter": "python",
   "pygments_lexer": "ipython3",
   "version": "3.10.14"
  }
 },
 "nbformat": 4,
 "nbformat_minor": 2
}
