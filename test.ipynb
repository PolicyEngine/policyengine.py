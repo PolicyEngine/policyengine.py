{
 "cells": [
  {
   "cell_type": "code",
   "execution_count": null,
   "metadata": {},
   "outputs": [
    {
     "data": {
      "text/plain": [
       "3000000000.0"
      ]
     },
     "execution_count": 2,
     "metadata": {},
     "output_type": "execute_result"
    }
   ],
   "source": [
    "from policyengine import Simulation\n",
    "\n",
    "sim = Simulation(\n",
    "    country=\"uk\",\n",
    "    scope=\"macro\",\n",
    "    time_period=2025,\n",
    "    reform={},\n",
    ")\n",
    "\n",
    "sim.calculate(\"macro/comparison/budgetary_impact\")"
   ]
  },
  {
   "cell_type": "code",
   "execution_count": 3,
   "metadata": {},
   "outputs": [
    {
     "data": {
      "text/plain": [
       "303552701743.09863"
      ]
     },
     "execution_count": 3,
     "metadata": {},
     "output_type": "execute_result"
    }
   ],
   "source": [
    "from policyengine import Simulation\n",
    "\n",
    "sim = Simulation(\n",
    "    country=\"uk\",\n",
    "    scope=\"household\",\n",
    "    data={\n",
    "        \"employment_income\": 20_000,\n",
    "    }\n",
    "    time_period=2025,\n",
    "    options={\n",
    "        \"charts\": {\n",
    "            # Plotly overrides, or custom styling\n",
    "        }\n",
    "        # All other configuration here\n",
    "    }\n",
    ")\n",
    "\n",
    "sim.calculate(\"household/net_income\")"
   ]
  },
  {
   "cell_type": "code",
   "execution_count": null,
   "metadata": {},
   "outputs": [],
   "source": [
    "from policyengine import Simulation\n",
    "\n",
    "sim = Simulation(\n",
    "    country=\"uk\",\n",
    "    scope=\"macro\",\n",
    "    time_period=2025,\n",
    "    reform={\n",
    "        \"basic_rate\": 0.2,\n",
    "    }\n",
    ")\n",
    "\n",
    "sim.calculate(\"macro/comparison/impact/by_constituency\")"
   ]
  }
 ],
 "metadata": {
  "kernelspec": {
   "display_name": "base",
   "language": "python",
   "name": "python3"
  },
  "language_info": {
   "codemirror_mode": {
    "name": "ipython",
    "version": 3
   },
   "file_extension": ".py",
   "mimetype": "text/x-python",
   "name": "python",
   "nbconvert_exporter": "python",
   "pygments_lexer": "ipython3",
   "version": "3.10.14"
  }
 },
 "nbformat": 4,
 "nbformat_minor": 2
}
