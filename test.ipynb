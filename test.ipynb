{
 "cells": [
  {
   "cell_type": "code",
   "execution_count": 1,
   "metadata": {},
   "outputs": [],
   "source": [
    "from policyengine import Simulation\n",
    "\n",
    "sim = Simulation(\n",
    "    country=\"uk\",\n",
    "    scope=\"macro\",\n",
    "    time_period=2025,\n",
    "    reform={\n",
    "        \"basic_rate\": 0.2,\n",
    "    }\n",
    ")\n",
    "\n",
    "from policyengine.outputs.macro.comparison.budget.general import calculate_budgetary_impact\n",
    "\n",
    "budgetary_impact = calculate_budgetary_impact(sim, federal_only=False)"
   ]
  },
  {
   "cell_type": "code",
   "execution_count": 3,
   "metadata": {},
   "outputs": [
    {
     "data": {
      "text/plain": [
       "303552701743.09863"
      ]
     },
     "execution_count": 3,
     "metadata": {},
     "output_type": "execute_result"
    }
   ],
   "source": [
    "from policyengine import Simulation\n",
    "\n",
    "sim = Simulation(\n",
    "    country=\"uk\",\n",
    "    scope=\"household\",\n",
    "    data={\n",
    "        \"employment_income\": 20_000,\n",
    "    }\n",
    "    time_period=2025,\n",
    ")\n",
    "\n",
    "from policyengine.outputs.household.single.net_income import calculate_net_income\n",
    "\n",
    "net_income = calculate_net_income(sim)"
   ]
  },
  {
   "cell_type": "code",
   "execution_count": null,
   "metadata": {},
   "outputs": [],
   "source": [
    "from policyengine import Simulation\n",
    "\n",
    "sim = Simulation(\n",
    "    country=\"uk\",\n",
    "    scope=\"macro\",\n",
    "    time_period=2025,\n",
    "    reform={\n",
    "        \"basic_rate\": 0.2,\n",
    "    }\n",
    ")\n",
    "\n",
    "from policyengine.outputs.macro.comparison.local_areas.parliamentary_constituencies import calculate_impact_by_constituency\n",
    "\n",
    "impact = calculate_impact_by_constituency(sim, metric=\"household_tax\")"
   ]
  }
 ],
 "metadata": {
  "kernelspec": {
   "display_name": "base",
   "language": "python",
   "name": "python3"
  },
  "language_info": {
   "codemirror_mode": {
    "name": "ipython",
    "version": 3
   },
   "file_extension": ".py",
   "mimetype": "text/x-python",
   "name": "python",
   "nbconvert_exporter": "python",
   "pygments_lexer": "ipython3",
   "version": "3.10.14"
  }
 },
 "nbformat": 4,
 "nbformat_minor": 2
}
